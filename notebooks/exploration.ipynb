{
 "cells": [
  {
   "cell_type": "code",
   "execution_count": 1,
   "metadata": {},
   "outputs": [],
   "source": [
    "import pandas as pd"
   ]
  },
  {
   "cell_type": "code",
   "execution_count": 2,
   "metadata": {},
   "outputs": [],
   "source": [
    "DATA_PATH = \"../data/\"\n",
    "data = pd.read_csv(DATA_PATH+\"2016_Building_Energy_Benchmarking.csv\", sep=\",\", encoding=\"iso-8859-1\")"
   ]
  },
  {
   "cell_type": "code",
   "execution_count": 3,
   "metadata": {},
   "outputs": [
    {
     "name": "stdout",
     "output_type": "stream",
     "text": [
      "<class 'pandas.core.frame.DataFrame'>\n",
      "RangeIndex: 3376 entries, 0 to 3375\n",
      "Data columns (total 46 columns):\n",
      " #   Column                           Dtype  \n",
      "---  ------                           -----  \n",
      " 0   OSEBuildingID                    int64  \n",
      " 1   DataYear                         int64  \n",
      " 2   BuildingType                     object \n",
      " 3   PrimaryPropertyType              object \n",
      " 4   PropertyName                     object \n",
      " 5   Address                          object \n",
      " 6   City                             object \n",
      " 7   State                            object \n",
      " 8   ZipCode                          float64\n",
      " 9   TaxParcelIdentificationNumber    object \n",
      " 10  CouncilDistrictCode              int64  \n",
      " 11  Neighborhood                     object \n",
      " 12  Latitude                         float64\n",
      " 13  Longitude                        float64\n",
      " 14  YearBuilt                        int64  \n",
      " 15  NumberofBuildings                float64\n",
      " 16  NumberofFloors                   int64  \n",
      " 17  PropertyGFATotal                 int64  \n",
      " 18  PropertyGFAParking               int64  \n",
      " 19  PropertyGFABuilding(s)           int64  \n",
      " 20  ListOfAllPropertyUseTypes        object \n",
      " 21  LargestPropertyUseType           object \n",
      " 22  LargestPropertyUseTypeGFA        float64\n",
      " 23  SecondLargestPropertyUseType     object \n",
      " 24  SecondLargestPropertyUseTypeGFA  float64\n",
      " 25  ThirdLargestPropertyUseType      object \n",
      " 26  ThirdLargestPropertyUseTypeGFA   float64\n",
      " 27  YearsENERGYSTARCertified         object \n",
      " 28  ENERGYSTARScore                  float64\n",
      " 29  SiteEUI(kBtu/sf)                 float64\n",
      " 30  SiteEUIWN(kBtu/sf)               float64\n",
      " 31  SourceEUI(kBtu/sf)               float64\n",
      " 32  SourceEUIWN(kBtu/sf)             float64\n",
      " 33  SiteEnergyUse(kBtu)              float64\n",
      " 34  SiteEnergyUseWN(kBtu)            float64\n",
      " 35  SteamUse(kBtu)                   float64\n",
      " 36  Electricity(kWh)                 float64\n",
      " 37  Electricity(kBtu)                float64\n",
      " 38  NaturalGas(therms)               float64\n",
      " 39  NaturalGas(kBtu)                 float64\n",
      " 40  DefaultData                      bool   \n",
      " 41  Comments                         float64\n",
      " 42  ComplianceStatus                 object \n",
      " 43  Outlier                          object \n",
      " 44  TotalGHGEmissions                float64\n",
      " 45  GHGEmissionsIntensity            float64\n",
      "dtypes: bool(1), float64(22), int64(8), object(15)\n",
      "memory usage: 1.2+ MB\n"
     ]
    }
   ],
   "source": [
    "pd.set_option('display.max_info_rows',50)\n",
    "data.info()"
   ]
  },
  {
   "cell_type": "code",
   "execution_count": 4,
   "metadata": {},
   "outputs": [
    {
     "data": {
      "text/plain": [
       "SecondLargestPropertyUseType       0.502666\n",
       "SecondLargestPropertyUseTypeGFA    0.502666\n",
       "ThirdLargestPropertyUseType        0.823460\n",
       "ThirdLargestPropertyUseTypeGFA     0.823460\n",
       "YearsENERGYSTARCertified           0.964751\n",
       "ENERGYSTARScore                    0.249704\n",
       "Comments                           1.000000\n",
       "Outlier                            0.990521\n",
       "dtype: float64"
      ]
     },
     "execution_count": 4,
     "metadata": {},
     "output_type": "execute_result"
    }
   ],
   "source": [
    "data.isna().mean()[data.isna().mean() > 0.10]"
   ]
  },
  {
   "cell_type": "code",
   "execution_count": 5,
   "metadata": {},
   "outputs": [],
   "source": [
    "label_1 = \"TotalGHGEmissions\"\n",
    "label_2 = \"SiteEnergyUse(kBtu)\""
   ]
  },
  {
   "cell_type": "code",
   "execution_count": 6,
   "metadata": {},
   "outputs": [],
   "source": [
    "all_columns = list(data.columns)\n",
    "categorical_columns = [\"BuildingType\", \"PrimaryPropertyType\",\"PropertyName\",\"City\",\"State\",\"Address\",\"City\",\"State\",\n",
    "                       \"ZipCode\",\"CouncilDistrictCode\",\"Neighborhood\",\"ListOfAllPropertyUseTypes\",\n",
    "                       \"LargestPropertyUseType\",\"SecondLargestPropertyUseType\",\"ThirdLargestPropertyUseType\",\"ComplianceStatus\"]\n",
    "numerical_columns = [column for column in all_columns if column not in categorical_columns]"
   ]
  },
  {
   "cell_type": "code",
   "execution_count": 7,
   "metadata": {},
   "outputs": [],
   "source": [
    "# Premier nettoyage du dataframe\n",
    "def clean_data(df, to_drop):\n",
    "    print(\"--------- shape before cleaning ---------\")\n",
    "    print(df.shape)\n",
    "    df = df[df.ComplianceStatus == \"Compliant\"]\n",
    "    df.Outlier.fillna('not_outlier', inplace=True)\n",
    "    df.SecondLargestPropertyUseType.fillna('one_use', inplace=True)\n",
    "    df.ThirdLargestPropertyUseType.fillna('one_use', inplace=True)\n",
    "    df = df[df.NumberofBuildings != 0]\n",
    "    df = df[df.NumberofFloors != 0]\n",
    "    df = df[df['DefaultData'] == False]\n",
    "    df.loc[df['SecondLargestPropertyUseType'] == 'one_use', 'SecondLargestPropertyUseTypeGFA'] = 0\n",
    "    df.loc[df['ThirdLargestPropertyUseType'] == 'one_use', 'ThirdLargestPropertyUseTypeGFA'] = 0\n",
    "    df['Nb_PropertyUseTypes'] = df['ListOfAllPropertyUseTypes'].str.count(',') + 1\n",
    "    df[\"building_age\"] = df[\"DataYear\"] - df[\"YearBuilt\"]\n",
    "    df['LargestPropertyUseType'] = df['LargestPropertyUseType'].fillna(df['PrimaryPropertyType'])\n",
    "    df['LargestPropertyUseTypeGFA'] = df['LargestPropertyUseTypeGFA'].fillna(df['PropertyGFATotal'])\n",
    "    df[\"%_LargestPropertyUseType\"] = df[\"LargestPropertyUseTypeGFA\"] / df[\"PropertyGFATotal\"]    \n",
    "    for col in to_drop:\n",
    "        if col in df.columns:\n",
    "            df = df.drop(columns=[col])\n",
    "    print(\"--------- shape before cleaning ---------\")\n",
    "    print(df.shape)\n",
    "    return df\n",
    "\n",
    "# Mise à jour des listes des colonnes\n",
    "def update_columns_list(list_1, dropped):\n",
    "    new_list = [col for col in list_1 if col not in dropped]\n",
    "    return new_list"
   ]
  },
  {
   "cell_type": "code",
   "execution_count": 8,
   "metadata": {},
   "outputs": [
    {
     "data": {
      "text/plain": [
       "True    3376\n",
       "dtype: int64"
      ]
     },
     "execution_count": 8,
     "metadata": {},
     "output_type": "execute_result"
    }
   ],
   "source": [
    "# Vérifier la GFA\n",
    "data[\"GFATotal\"] = data[\"PropertyGFAParking\"] + data[\"PropertyGFABuilding(s)\"]\n",
    "check_GPA = pd.Series(data[\"GFATotal\"] == data[\"PropertyGFATotal\"])\n",
    "data.drop(columns=[\"GFATotal\"], inplace=True)\n",
    "check_GPA.value_counts()"
   ]
  },
  {
   "cell_type": "code",
   "execution_count": 9,
   "metadata": {},
   "outputs": [],
   "source": [
    "data = data[~data.BuildingType.isin([\"Multifamily LR (1-4)\",\"Multifamily MR (5-9)\",\"Multifamily HR (10+)\"])]\n",
    "data[\"%_GFAParking\"] = data[\"PropertyGFAParking\"] / data[\"PropertyGFATotal\"]\n",
    "data[\"%_GFABuilding\"] = data[\"PropertyGFABuilding(s)\"] / data[\"PropertyGFATotal\"]\n"
   ]
  },
  {
   "cell_type": "code",
   "execution_count": 10,
   "metadata": {},
   "outputs": [],
   "source": [
    "columns_to_drop = [\"DataYear\",\"PropertyName\",\"Address\",\"City\",\"State\",\"Latitude\",\"Longitude\",\"YearBuilt\",\"TaxParcelIdentificationNumber\",\"YearsENERGYSTARCertified\",\"Comments\",\"DefaultData\",\"ComplianceStatus\", \"SiteEnergyUseWN(kBtu)\",\"PropertyGFAParking\",\"PropertyGFABuilding(s)\",\"ListOfAllPropertyUseTypes\"]"
   ]
  },
  {
   "cell_type": "code",
   "execution_count": 11,
   "metadata": {},
   "outputs": [
    {
     "name": "stdout",
     "output_type": "stream",
     "text": [
      "--------- shape before cleaning ---------\n",
      "(1668, 48)\n",
      "--------- shape before cleaning ---------\n",
      "(1481, 34)\n"
     ]
    },
    {
     "name": "stderr",
     "output_type": "stream",
     "text": [
      "/Users/cyrielle/.pyenv/versions/3.8.6/envs/lewagon/lib/python3.8/site-packages/pandas/core/generic.py:6383: SettingWithCopyWarning: \n",
      "A value is trying to be set on a copy of a slice from a DataFrame\n",
      "\n",
      "See the caveats in the documentation: https://pandas.pydata.org/pandas-docs/stable/user_guide/indexing.html#returning-a-view-versus-a-copy\n",
      "  return self._update_inplace(result)\n"
     ]
    }
   ],
   "source": [
    "data = clean_data(data, columns_to_drop)\n",
    "categorical_columns = update_columns_list(categorical_columns,columns_to_drop)"
   ]
  },
  {
   "cell_type": "code",
   "execution_count": 12,
   "metadata": {},
   "outputs": [
    {
     "data": {
      "text/plain": [
       "NonResidential        1375\n",
       "Nonresidential COS      73\n",
       "Campus                  22\n",
       "SPS-District K-12       10\n",
       "Nonresidential WA        1\n",
       "Name: BuildingType, dtype: int64"
      ]
     },
     "execution_count": 12,
     "metadata": {},
     "output_type": "execute_result"
    }
   ],
   "source": [
    "data.BuildingType.value_counts()"
   ]
  },
  {
   "cell_type": "code",
   "execution_count": 13,
   "metadata": {},
   "outputs": [
    {
     "data": {
      "text/html": [
       "<div>\n",
       "<style scoped>\n",
       "    .dataframe tbody tr th:only-of-type {\n",
       "        vertical-align: middle;\n",
       "    }\n",
       "\n",
       "    .dataframe tbody tr th {\n",
       "        vertical-align: top;\n",
       "    }\n",
       "\n",
       "    .dataframe thead th {\n",
       "        text-align: right;\n",
       "    }\n",
       "</style>\n",
       "<table border=\"1\" class=\"dataframe\">\n",
       "  <thead>\n",
       "    <tr style=\"text-align: right;\">\n",
       "      <th></th>\n",
       "      <th>OSEBuildingID</th>\n",
       "      <th>BuildingType</th>\n",
       "      <th>PrimaryPropertyType</th>\n",
       "      <th>ZipCode</th>\n",
       "      <th>CouncilDistrictCode</th>\n",
       "      <th>Neighborhood</th>\n",
       "      <th>NumberofBuildings</th>\n",
       "      <th>NumberofFloors</th>\n",
       "      <th>PropertyGFATotal</th>\n",
       "      <th>LargestPropertyUseType</th>\n",
       "      <th>LargestPropertyUseTypeGFA</th>\n",
       "      <th>SecondLargestPropertyUseType</th>\n",
       "      <th>SecondLargestPropertyUseTypeGFA</th>\n",
       "      <th>ThirdLargestPropertyUseType</th>\n",
       "      <th>ThirdLargestPropertyUseTypeGFA</th>\n",
       "      <th>ENERGYSTARScore</th>\n",
       "      <th>SiteEUI(kBtu/sf)</th>\n",
       "      <th>SiteEUIWN(kBtu/sf)</th>\n",
       "      <th>SourceEUI(kBtu/sf)</th>\n",
       "      <th>SourceEUIWN(kBtu/sf)</th>\n",
       "      <th>SiteEnergyUse(kBtu)</th>\n",
       "      <th>SteamUse(kBtu)</th>\n",
       "      <th>Electricity(kWh)</th>\n",
       "      <th>Electricity(kBtu)</th>\n",
       "      <th>NaturalGas(therms)</th>\n",
       "      <th>NaturalGas(kBtu)</th>\n",
       "      <th>Outlier</th>\n",
       "      <th>TotalGHGEmissions</th>\n",
       "      <th>GHGEmissionsIntensity</th>\n",
       "      <th>%_GFAParking</th>\n",
       "      <th>%_GFABuilding</th>\n",
       "      <th>Nb_PropertyUseTypes</th>\n",
       "      <th>building_age</th>\n",
       "      <th>%_LargestPropertyUseType</th>\n",
       "    </tr>\n",
       "  </thead>\n",
       "  <tbody>\n",
       "    <tr>\n",
       "      <th>0</th>\n",
       "      <td>1</td>\n",
       "      <td>NonResidential</td>\n",
       "      <td>Hotel</td>\n",
       "      <td>98101.0</td>\n",
       "      <td>7</td>\n",
       "      <td>DOWNTOWN</td>\n",
       "      <td>1.0</td>\n",
       "      <td>12</td>\n",
       "      <td>88434</td>\n",
       "      <td>Hotel</td>\n",
       "      <td>88434.0</td>\n",
       "      <td>one_use</td>\n",
       "      <td>0.0</td>\n",
       "      <td>one_use</td>\n",
       "      <td>0.0</td>\n",
       "      <td>60.0</td>\n",
       "      <td>81.699997</td>\n",
       "      <td>84.300003</td>\n",
       "      <td>182.500000</td>\n",
       "      <td>189.000000</td>\n",
       "      <td>7226362.5</td>\n",
       "      <td>2003882.00</td>\n",
       "      <td>1.156514e+06</td>\n",
       "      <td>3946027.0</td>\n",
       "      <td>12764.52930</td>\n",
       "      <td>1276453.0</td>\n",
       "      <td>not_outlier</td>\n",
       "      <td>249.98</td>\n",
       "      <td>2.83</td>\n",
       "      <td>0.000000</td>\n",
       "      <td>1.000000</td>\n",
       "      <td>1</td>\n",
       "      <td>89</td>\n",
       "      <td>1.000000</td>\n",
       "    </tr>\n",
       "    <tr>\n",
       "      <th>1</th>\n",
       "      <td>2</td>\n",
       "      <td>NonResidential</td>\n",
       "      <td>Hotel</td>\n",
       "      <td>98101.0</td>\n",
       "      <td>7</td>\n",
       "      <td>DOWNTOWN</td>\n",
       "      <td>1.0</td>\n",
       "      <td>11</td>\n",
       "      <td>103566</td>\n",
       "      <td>Hotel</td>\n",
       "      <td>83880.0</td>\n",
       "      <td>Parking</td>\n",
       "      <td>15064.0</td>\n",
       "      <td>Restaurant</td>\n",
       "      <td>4622.0</td>\n",
       "      <td>61.0</td>\n",
       "      <td>94.800003</td>\n",
       "      <td>97.900002</td>\n",
       "      <td>176.100006</td>\n",
       "      <td>179.399994</td>\n",
       "      <td>8387933.0</td>\n",
       "      <td>0.00</td>\n",
       "      <td>9.504252e+05</td>\n",
       "      <td>3242851.0</td>\n",
       "      <td>51450.81641</td>\n",
       "      <td>5145082.0</td>\n",
       "      <td>not_outlier</td>\n",
       "      <td>295.86</td>\n",
       "      <td>2.86</td>\n",
       "      <td>0.145453</td>\n",
       "      <td>0.854547</td>\n",
       "      <td>3</td>\n",
       "      <td>20</td>\n",
       "      <td>0.809918</td>\n",
       "    </tr>\n",
       "    <tr>\n",
       "      <th>2</th>\n",
       "      <td>3</td>\n",
       "      <td>NonResidential</td>\n",
       "      <td>Hotel</td>\n",
       "      <td>98101.0</td>\n",
       "      <td>7</td>\n",
       "      <td>DOWNTOWN</td>\n",
       "      <td>1.0</td>\n",
       "      <td>41</td>\n",
       "      <td>956110</td>\n",
       "      <td>Hotel</td>\n",
       "      <td>756493.0</td>\n",
       "      <td>one_use</td>\n",
       "      <td>0.0</td>\n",
       "      <td>one_use</td>\n",
       "      <td>0.0</td>\n",
       "      <td>43.0</td>\n",
       "      <td>96.000000</td>\n",
       "      <td>97.699997</td>\n",
       "      <td>241.899994</td>\n",
       "      <td>244.100006</td>\n",
       "      <td>72587024.0</td>\n",
       "      <td>21566554.00</td>\n",
       "      <td>1.451544e+07</td>\n",
       "      <td>49526664.0</td>\n",
       "      <td>14938.00000</td>\n",
       "      <td>1493800.0</td>\n",
       "      <td>not_outlier</td>\n",
       "      <td>2089.28</td>\n",
       "      <td>2.19</td>\n",
       "      <td>0.205748</td>\n",
       "      <td>0.794252</td>\n",
       "      <td>1</td>\n",
       "      <td>47</td>\n",
       "      <td>0.791220</td>\n",
       "    </tr>\n",
       "    <tr>\n",
       "      <th>3</th>\n",
       "      <td>5</td>\n",
       "      <td>NonResidential</td>\n",
       "      <td>Hotel</td>\n",
       "      <td>98101.0</td>\n",
       "      <td>7</td>\n",
       "      <td>DOWNTOWN</td>\n",
       "      <td>1.0</td>\n",
       "      <td>10</td>\n",
       "      <td>61320</td>\n",
       "      <td>Hotel</td>\n",
       "      <td>61320.0</td>\n",
       "      <td>one_use</td>\n",
       "      <td>0.0</td>\n",
       "      <td>one_use</td>\n",
       "      <td>0.0</td>\n",
       "      <td>56.0</td>\n",
       "      <td>110.800003</td>\n",
       "      <td>113.300003</td>\n",
       "      <td>216.199997</td>\n",
       "      <td>224.000000</td>\n",
       "      <td>6794584.0</td>\n",
       "      <td>2214446.25</td>\n",
       "      <td>8.115253e+05</td>\n",
       "      <td>2768924.0</td>\n",
       "      <td>18112.13086</td>\n",
       "      <td>1811213.0</td>\n",
       "      <td>not_outlier</td>\n",
       "      <td>286.43</td>\n",
       "      <td>4.67</td>\n",
       "      <td>0.000000</td>\n",
       "      <td>1.000000</td>\n",
       "      <td>1</td>\n",
       "      <td>90</td>\n",
       "      <td>1.000000</td>\n",
       "    </tr>\n",
       "    <tr>\n",
       "      <th>4</th>\n",
       "      <td>8</td>\n",
       "      <td>NonResidential</td>\n",
       "      <td>Hotel</td>\n",
       "      <td>98121.0</td>\n",
       "      <td>7</td>\n",
       "      <td>DOWNTOWN</td>\n",
       "      <td>1.0</td>\n",
       "      <td>18</td>\n",
       "      <td>175580</td>\n",
       "      <td>Hotel</td>\n",
       "      <td>123445.0</td>\n",
       "      <td>Parking</td>\n",
       "      <td>68009.0</td>\n",
       "      <td>Swimming Pool</td>\n",
       "      <td>0.0</td>\n",
       "      <td>75.0</td>\n",
       "      <td>114.800003</td>\n",
       "      <td>118.699997</td>\n",
       "      <td>211.399994</td>\n",
       "      <td>215.600006</td>\n",
       "      <td>14172606.0</td>\n",
       "      <td>0.00</td>\n",
       "      <td>1.573449e+06</td>\n",
       "      <td>5368607.0</td>\n",
       "      <td>88039.98438</td>\n",
       "      <td>8803998.0</td>\n",
       "      <td>not_outlier</td>\n",
       "      <td>505.01</td>\n",
       "      <td>2.88</td>\n",
       "      <td>0.353115</td>\n",
       "      <td>0.646885</td>\n",
       "      <td>3</td>\n",
       "      <td>36</td>\n",
       "      <td>0.703070</td>\n",
       "    </tr>\n",
       "  </tbody>\n",
       "</table>\n",
       "</div>"
      ],
      "text/plain": [
       "   OSEBuildingID    BuildingType PrimaryPropertyType  ZipCode  \\\n",
       "0              1  NonResidential               Hotel  98101.0   \n",
       "1              2  NonResidential               Hotel  98101.0   \n",
       "2              3  NonResidential               Hotel  98101.0   \n",
       "3              5  NonResidential               Hotel  98101.0   \n",
       "4              8  NonResidential               Hotel  98121.0   \n",
       "\n",
       "   CouncilDistrictCode Neighborhood  NumberofBuildings  NumberofFloors  \\\n",
       "0                    7     DOWNTOWN                1.0              12   \n",
       "1                    7     DOWNTOWN                1.0              11   \n",
       "2                    7     DOWNTOWN                1.0              41   \n",
       "3                    7     DOWNTOWN                1.0              10   \n",
       "4                    7     DOWNTOWN                1.0              18   \n",
       "\n",
       "   PropertyGFATotal LargestPropertyUseType  LargestPropertyUseTypeGFA  \\\n",
       "0             88434                  Hotel                    88434.0   \n",
       "1            103566                  Hotel                    83880.0   \n",
       "2            956110                  Hotel                   756493.0   \n",
       "3             61320                  Hotel                    61320.0   \n",
       "4            175580                  Hotel                   123445.0   \n",
       "\n",
       "  SecondLargestPropertyUseType  SecondLargestPropertyUseTypeGFA  \\\n",
       "0                      one_use                              0.0   \n",
       "1                      Parking                          15064.0   \n",
       "2                      one_use                              0.0   \n",
       "3                      one_use                              0.0   \n",
       "4                      Parking                          68009.0   \n",
       "\n",
       "  ThirdLargestPropertyUseType  ThirdLargestPropertyUseTypeGFA  \\\n",
       "0                     one_use                             0.0   \n",
       "1                  Restaurant                          4622.0   \n",
       "2                     one_use                             0.0   \n",
       "3                     one_use                             0.0   \n",
       "4               Swimming Pool                             0.0   \n",
       "\n",
       "   ENERGYSTARScore  SiteEUI(kBtu/sf)  SiteEUIWN(kBtu/sf)  SourceEUI(kBtu/sf)  \\\n",
       "0             60.0         81.699997           84.300003          182.500000   \n",
       "1             61.0         94.800003           97.900002          176.100006   \n",
       "2             43.0         96.000000           97.699997          241.899994   \n",
       "3             56.0        110.800003          113.300003          216.199997   \n",
       "4             75.0        114.800003          118.699997          211.399994   \n",
       "\n",
       "   SourceEUIWN(kBtu/sf)  SiteEnergyUse(kBtu)  SteamUse(kBtu)  \\\n",
       "0            189.000000            7226362.5      2003882.00   \n",
       "1            179.399994            8387933.0            0.00   \n",
       "2            244.100006           72587024.0     21566554.00   \n",
       "3            224.000000            6794584.0      2214446.25   \n",
       "4            215.600006           14172606.0            0.00   \n",
       "\n",
       "   Electricity(kWh)  Electricity(kBtu)  NaturalGas(therms)  NaturalGas(kBtu)  \\\n",
       "0      1.156514e+06          3946027.0         12764.52930         1276453.0   \n",
       "1      9.504252e+05          3242851.0         51450.81641         5145082.0   \n",
       "2      1.451544e+07         49526664.0         14938.00000         1493800.0   \n",
       "3      8.115253e+05          2768924.0         18112.13086         1811213.0   \n",
       "4      1.573449e+06          5368607.0         88039.98438         8803998.0   \n",
       "\n",
       "       Outlier  TotalGHGEmissions  GHGEmissionsIntensity  %_GFAParking  \\\n",
       "0  not_outlier             249.98                   2.83      0.000000   \n",
       "1  not_outlier             295.86                   2.86      0.145453   \n",
       "2  not_outlier            2089.28                   2.19      0.205748   \n",
       "3  not_outlier             286.43                   4.67      0.000000   \n",
       "4  not_outlier             505.01                   2.88      0.353115   \n",
       "\n",
       "   %_GFABuilding  Nb_PropertyUseTypes  building_age  %_LargestPropertyUseType  \n",
       "0       1.000000                    1            89                  1.000000  \n",
       "1       0.854547                    3            20                  0.809918  \n",
       "2       0.794252                    1            47                  0.791220  \n",
       "3       1.000000                    1            90                  1.000000  \n",
       "4       0.646885                    3            36                  0.703070  "
      ]
     },
     "execution_count": 13,
     "metadata": {},
     "output_type": "execute_result"
    }
   ],
   "source": [
    "pd.set_option('display.max_columns',50)\n",
    "data.head()"
   ]
  },
  {
   "cell_type": "code",
   "execution_count": 14,
   "metadata": {},
   "outputs": [],
   "source": [
    "data.ENERGYSTARScore = data.ENERGYSTARScore.fillna('no_score')\n",
    "data = data[data[\"ENERGYSTARScore\"] != 'no_score']"
   ]
  },
  {
   "cell_type": "code",
   "execution_count": 15,
   "metadata": {},
   "outputs": [],
   "source": [
    "features = ['BuildingType', 'PrimaryPropertyType', 'ZipCode',\n",
    "       'Neighborhood',  'building_age','NumberofBuildings',\n",
    "       'NumberofFloors', 'PropertyGFATotal', 'LargestPropertyUseType',\n",
    "       'LargestPropertyUseTypeGFA',  '%_LargestPropertyUseType',\n",
    "       'SourceEUI(kBtu/sf)',\n",
    "       'SiteEnergyUse(kBtu)', 'SteamUse(kBtu)','Electricity(kBtu)','NaturalGas(kBtu)',\n",
    "       'TotalGHGEmissions',\n",
    "       '%_GFAParking', '%_GFABuilding','Nb_PropertyUseTypes']"
   ]
  },
  {
   "cell_type": "code",
   "execution_count": 16,
   "metadata": {},
   "outputs": [],
   "source": [
    "categorical_columns = update_columns_list(categorical_columns,columns_to_drop)\n",
    "numerical_columns = update_columns_list(numerical_columns,columns_to_drop)"
   ]
  },
  {
   "cell_type": "code",
   "execution_count": 17,
   "metadata": {},
   "outputs": [],
   "source": [
    "df = data[features]\n",
    "cat_features = [col for col in features if col in categorical_columns]\n",
    "num_features = [col for col in features if col in categorical_columns]"
   ]
  },
  {
   "cell_type": "code",
   "execution_count": 18,
   "metadata": {},
   "outputs": [
    {
     "data": {
      "image/png": "[encoded data removed]",
      "text/plain": [
       "<Figure size 432x288 with 1 Axes>"
      ]
     },
     "metadata": {
      "needs_background": "light"
     },
     "output_type": "display_data"
    }
   ],
   "source": [
    "import matplotlib.pyplot as plt\n",
    "import seaborn as sns\n",
    "\n",
    "plt.hist(df[\"TotalGHGEmissions\"]);"
   ]
  },
  {
   "cell_type": "code",
   "execution_count": 19,
   "metadata": {},
   "outputs": [
    {
     "data": {
      "text/plain": [
       "count      964.000000\n",
       "mean       193.268672\n",
       "std        873.974092\n",
       "min         -0.800000\n",
       "25%         20.165000\n",
       "50%         49.215000\n",
       "75%        140.090000\n",
       "max      16870.980000\n",
       "Name: TotalGHGEmissions, dtype: float64"
      ]
     },
     "execution_count": 19,
     "metadata": {},
     "output_type": "execute_result"
    }
   ],
   "source": [
    "df[\"TotalGHGEmissions\"].describe()"
   ]
  },
  {
   "cell_type": "code",
   "execution_count": 20,
   "metadata": {},
   "outputs": [
    {
     "data": {
      "text/plain": [
       "0.00      -0.8000\n",
       "0.50      49.2150\n",
       "0.98    1008.6684\n",
       "Name: TotalGHGEmissions, dtype: float64"
      ]
     },
     "execution_count": 20,
     "metadata": {},
     "output_type": "execute_result"
    }
   ],
   "source": [
    "df[\"TotalGHGEmissions\"].quantile([0, .5, 0.98])"
   ]
  },
  {
   "cell_type": "code",
   "execution_count": 21,
   "metadata": {},
   "outputs": [],
   "source": [
    "df = df[df[\"TotalGHGEmissions\"] <= df[\"TotalGHGEmissions\"].quantile([0.98])[0.98]]\n",
    "df = df[df[\"TotalGHGEmissions\"] > 0]"
   ]
  },
  {
   "cell_type": "code",
   "execution_count": 22,
   "metadata": {},
   "outputs": [
    {
     "data": {
      "image/png": "[encoded data removed]",
      "text/plain": [
       "<Figure size 432x288 with 1 Axes>"
      ]
     },
     "metadata": {
      "needs_background": "light"
     },
     "output_type": "display_data"
    }
   ],
   "source": [
    "plt.hist(df[label_2]);"
   ]
  },
  {
   "cell_type": "code",
   "execution_count": 23,
   "metadata": {},
   "outputs": [
    {
     "data": {
      "text/plain": [
       "(4, 16, 38, 18, 19)"
      ]
     },
     "execution_count": 23,
     "metadata": {},
     "output_type": "execute_result"
    }
   ],
   "source": [
    "df.BuildingType.nunique(), df.PrimaryPropertyType.nunique(), df.ZipCode.nunique(), df.Neighborhood.nunique(), df.LargestPropertyUseType.nunique()"
   ]
  },
  {
   "cell_type": "code",
   "execution_count": 24,
   "metadata": {},
   "outputs": [],
   "source": [
    "# encoding ZipCode with mean encoding and TotalGHGEmissions #\n",
    "# Calculer la moyenne de la colonne cible (label2) pour chaque code postal\n",
    "means = df.groupby('ZipCode')['TotalGHGEmissions'].mean()\n",
    "\n",
    "# Encoder la colonne code postal en fonction de la moyenne de la colonne cible\n",
    "df['code_postal_encoded'] = df['ZipCode'].map(means)\n",
    "\n",
    "# Supprimer la colonne catégorielle\n",
    "df.drop(columns=['ZipCode'],inplace=True)"
   ]
  },
  {
   "cell_type": "code",
   "execution_count": 25,
   "metadata": {},
   "outputs": [],
   "source": [
    "onehot_encoded = pd.get_dummies(df['LargestPropertyUseType'], prefix='LargestPropertyUseType')\n",
    "\n",
    "# Ajouter les colonnes encodées au dataframe d'origine\n",
    "df = pd.concat([df, onehot_encoded], axis=1)\n",
    "\n",
    "# Supprimer la colonne originale\n",
    "df.drop('LargestPropertyUseType', axis=1, inplace=True)"
   ]
  },
  {
   "cell_type": "code",
   "execution_count": 26,
   "metadata": {},
   "outputs": [],
   "source": [
    "# Liste des colonnes à remplacer\n",
    "cols_to_replace = list(df.filter(like=\"LargestPropertyUseType_\").columns)\n",
    "\n",
    "# Boucle pour remplacer les valeurs dans chaque colonne\n",
    "for col in cols_to_replace:\n",
    "    df[col] = df.apply(lambda row: row[\"%_LargestPropertyUseType\"] if row[col] == 1 else 0, axis=1)\n",
    "    \n",
    "df.drop(columns=[\"%_LargestPropertyUseType\"], inplace=True)"
   ]
  },
  {
   "cell_type": "code",
   "execution_count": 27,
   "metadata": {},
   "outputs": [],
   "source": [
    "# encoding Neighborhood de manière encodale #\n",
    "# compter le nombre d'occurrences de chaque catégorie\n",
    "freq = df['Neighborhood'].value_counts()\n",
    "\n",
    "# remplacer les catégories par leur fréquence\n",
    "df['Neighborhood_freq'] = df['Neighborhood'].map(freq)\n",
    "\n",
    "# Supprimer la colonne catégorielle\n",
    "df.drop(columns=['Neighborhood'],inplace=True)"
   ]
  },
  {
   "cell_type": "code",
   "execution_count": 28,
   "metadata": {},
   "outputs": [],
   "source": [
    "onehot_encoded_BuildingType = pd.get_dummies(df['BuildingType'], prefix='BuildingType')\n",
    "\n",
    "# Ajouter les colonnes encodées au dataframe d'origine\n",
    "df = pd.concat([df, onehot_encoded_BuildingType], axis=1)\n",
    "\n",
    "# Supprimer la colonne originale\n",
    "df.drop('BuildingType', axis=1, inplace=True)"
   ]
  },
  {
   "cell_type": "code",
   "execution_count": 29,
   "metadata": {},
   "outputs": [],
   "source": [
    "# encoding PrimaryPropertyType with mean encoding and TotalGHGEmissions #\n",
    "# Calculer la moyenne de la colonne cible (label2) pour chaque code postal\n",
    "means = df.groupby('PrimaryPropertyType')['TotalGHGEmissions'].mean()\n",
    "\n",
    "# Encoder la colonne code postal en fonction de la moyenne de la colonne cible\n",
    "df['PrimaryPropertyType_encoded'] = df['PrimaryPropertyType'].map(means)\n",
    "\n",
    "# Supprimer la colonne catégorielle\n",
    "df.drop(columns=['PrimaryPropertyType'],inplace=True)"
   ]
  },
  {
   "cell_type": "code",
   "execution_count": 30,
   "metadata": {},
   "outputs": [],
   "source": [
    "df.drop(columns=['SourceEUI(kBtu/sf)', 'SteamUse(kBtu)','Electricity(kBtu)', 'NaturalGas(kBtu)'], inplace=True)"
   ]
  },
  {
   "cell_type": "code",
   "execution_count": 33,
   "metadata": {},
   "outputs": [],
   "source": [
    "from sklearn.model_selection import train_test_split\n",
    "\n",
    "X = df.drop(columns=[label_1,label_2])\n",
    "y1 = df[[label_1]]\n",
    "y2 = df[[label_2]]\n",
    "\n",
    "X_train, X_test, y1_train, y1_test = train_test_split(X,y1, test_size=0.2, random_state=42)"
   ]
  },
  {
   "cell_type": "code",
   "execution_count": 42,
   "metadata": {},
   "outputs": [
    {
     "data": {
      "text/html": [
       "<style>#sk-container-id-3 {color: black;background-color: white;}#sk-container-id-3 pre{padding: 0;}#sk-container-id-3 div.sk-toggleable {background-color: white;}#sk-container-id-3 label.sk-toggleable__label {cursor: pointer;display: block;width: 100%;margin-bottom: 0;padding: 0.3em;box-sizing: border-box;text-align: center;}#sk-container-id-3 label.sk-toggleable__label-arrow:before {content: \"▸\";float: left;margin-right: 0.25em;color: #696969;}#sk-container-id-3 label.sk-toggleable__label-arrow:hover:before {color: black;}#sk-container-id-3 div.sk-estimator:hover label.sk-toggleable__label-arrow:before {color: black;}#sk-container-id-3 div.sk-toggleable__content {max-height: 0;max-width: 0;overflow: hidden;text-align: left;background-color: #f0f8ff;}#sk-container-id-3 div.sk-toggleable__content pre {margin: 0.2em;color: black;border-radius: 0.25em;background-color: #f0f8ff;}#sk-container-id-3 input.sk-toggleable__control:checked~div.sk-toggleable__content {max-height: 200px;max-width: 100%;overflow: auto;}#sk-container-id-3 input.sk-toggleable__control:checked~label.sk-toggleable__label-arrow:before {content: \"▾\";}#sk-container-id-3 div.sk-estimator input.sk-toggleable__control:checked~label.sk-toggleable__label {background-color: #d4ebff;}#sk-container-id-3 div.sk-label input.sk-toggleable__control:checked~label.sk-toggleable__label {background-color: #d4ebff;}#sk-container-id-3 input.sk-hidden--visually {border: 0;clip: rect(1px 1px 1px 1px);clip: rect(1px, 1px, 1px, 1px);height: 1px;margin: -1px;overflow: hidden;padding: 0;position: absolute;width: 1px;}#sk-container-id-3 div.sk-estimator {font-family: monospace;background-color: #f0f8ff;border: 1px dotted black;border-radius: 0.25em;box-sizing: border-box;margin-bottom: 0.5em;}#sk-container-id-3 div.sk-estimator:hover {background-color: #d4ebff;}#sk-container-id-3 div.sk-parallel-item::after {content: \"\";width: 100%;border-bottom: 1px solid gray;flex-grow: 1;}#sk-container-id-3 div.sk-label:hover label.sk-toggleable__label {background-color: #d4ebff;}#sk-container-id-3 div.sk-serial::before {content: \"\";position: absolute;border-left: 1px solid gray;box-sizing: border-box;top: 0;bottom: 0;left: 50%;z-index: 0;}#sk-container-id-3 div.sk-serial {display: flex;flex-direction: column;align-items: center;background-color: white;padding-right: 0.2em;padding-left: 0.2em;position: relative;}#sk-container-id-3 div.sk-item {position: relative;z-index: 1;}#sk-container-id-3 div.sk-parallel {display: flex;align-items: stretch;justify-content: center;background-color: white;position: relative;}#sk-container-id-3 div.sk-item::before, #sk-container-id-3 div.sk-parallel-item::before {content: \"\";position: absolute;border-left: 1px solid gray;box-sizing: border-box;top: 0;bottom: 0;left: 50%;z-index: -1;}#sk-container-id-3 div.sk-parallel-item {display: flex;flex-direction: column;z-index: 1;position: relative;background-color: white;}#sk-container-id-3 div.sk-parallel-item:first-child::after {align-self: flex-end;width: 50%;}#sk-container-id-3 div.sk-parallel-item:last-child::after {align-self: flex-start;width: 50%;}#sk-container-id-3 div.sk-parallel-item:only-child::after {width: 0;}#sk-container-id-3 div.sk-dashed-wrapped {border: 1px dashed gray;margin: 0 0.4em 0.5em 0.4em;box-sizing: border-box;padding-bottom: 0.4em;background-color: white;}#sk-container-id-3 div.sk-label label {font-family: monospace;font-weight: bold;display: inline-block;line-height: 1.2em;}#sk-container-id-3 div.sk-label-container {text-align: center;}#sk-container-id-3 div.sk-container {/* jupyter's `normalize.less` sets `[hidden] { display: none; }` but bootstrap.min.css set `[hidden] { display: none !important; }` so we also need the `!important` here to be able to override the default hidden behavior on the sphinx rendered scikit-learn.org. See: https://github.com/scikit-learn/scikit-learn/issues/21755 */display: inline-block !important;position: relative;}#sk-container-id-3 div.sk-text-repr-fallback {display: none;}</style><div id=\"sk-container-id-3\" class=\"sk-top-container\"><div class=\"sk-text-repr-fallback\"><pre>GridSearchCV(cv=5, estimator=DummyRegressor(), n_jobs=-1,\n",
       "             param_grid={&#x27;quantile&#x27;: [0.25, 0.5, 0.75],\n",
       "                         &#x27;strategy&#x27;: (&#x27;mean&#x27;, &#x27;median&#x27;, &#x27;quantile&#x27;)},\n",
       "             scoring=&#x27;r2&#x27;)</pre><b>In a Jupyter environment, please rerun this cell to show the HTML representation or trust the notebook. <br />On GitHub, the HTML representation is unable to render, please try loading this page with nbviewer.org.</b></div><div class=\"sk-container\" hidden><div class=\"sk-item sk-dashed-wrapped\"><div class=\"sk-label-container\"><div class=\"sk-label sk-toggleable\"><input class=\"sk-toggleable__control sk-hidden--visually\" id=\"sk-estimator-id-7\" type=\"checkbox\" ><label for=\"sk-estimator-id-7\" class=\"sk-toggleable__label sk-toggleable__label-arrow\">GridSearchCV</label><div class=\"sk-toggleable__content\"><pre>GridSearchCV(cv=5, estimator=DummyRegressor(), n_jobs=-1,\n",
       "             param_grid={&#x27;quantile&#x27;: [0.25, 0.5, 0.75],\n",
       "                         &#x27;strategy&#x27;: (&#x27;mean&#x27;, &#x27;median&#x27;, &#x27;quantile&#x27;)},\n",
       "             scoring=&#x27;r2&#x27;)</pre></div></div></div><div class=\"sk-parallel\"><div class=\"sk-parallel-item\"><div class=\"sk-item\"><div class=\"sk-label-container\"><div class=\"sk-label sk-toggleable\"><input class=\"sk-toggleable__control sk-hidden--visually\" id=\"sk-estimator-id-8\" type=\"checkbox\" ><label for=\"sk-estimator-id-8\" class=\"sk-toggleable__label sk-toggleable__label-arrow\">estimator: DummyRegressor</label><div class=\"sk-toggleable__content\"><pre>DummyRegressor()</pre></div></div></div><div class=\"sk-serial\"><div class=\"sk-item\"><div class=\"sk-estimator sk-toggleable\"><input class=\"sk-toggleable__control sk-hidden--visually\" id=\"sk-estimator-id-9\" type=\"checkbox\" ><label for=\"sk-estimator-id-9\" class=\"sk-toggleable__label sk-toggleable__label-arrow\">DummyRegressor</label><div class=\"sk-toggleable__content\"><pre>DummyRegressor()</pre></div></div></div></div></div></div></div></div></div></div>"
      ],
      "text/plain": [
       "GridSearchCV(cv=5, estimator=DummyRegressor(), n_jobs=-1,\n",
       "             param_grid={'quantile': [0.25, 0.5, 0.75],\n",
       "                         'strategy': ('mean', 'median', 'quantile')},\n",
       "             scoring='r2')"
      ]
     },
     "execution_count": 42,
     "metadata": {},
     "output_type": "execute_result"
    }
   ],
   "source": [
    "from sklearn.model_selection import GridSearchCV\n",
    "from sklearn.dummy import DummyRegressor\n",
    "\n",
    "dummy_regr = DummyRegressor()\n",
    "parameters = {\"strategy\" : (\"mean\", \"median\", \"quantile\"), \n",
    "              \"quantile\": [0.25, 0.5, 0.75]}\n",
    "grid_dummy = GridSearchCV(dummy_regr, \n",
    "                          param_grid=parameters,\n",
    "                          cv=5,\n",
    "                          n_jobs=-1, \n",
    "                          scoring=\"r2\")\n",
    "grid_dummy.fit(X, y1)"
   ]
  },
  {
   "cell_type": "code",
   "execution_count": 43,
   "metadata": {},
   "outputs": [
    {
     "data": {
      "text/html": [
       "<style>#sk-container-id-4 {color: black;background-color: white;}#sk-container-id-4 pre{padding: 0;}#sk-container-id-4 div.sk-toggleable {background-color: white;}#sk-container-id-4 label.sk-toggleable__label {cursor: pointer;display: block;width: 100%;margin-bottom: 0;padding: 0.3em;box-sizing: border-box;text-align: center;}#sk-container-id-4 label.sk-toggleable__label-arrow:before {content: \"▸\";float: left;margin-right: 0.25em;color: #696969;}#sk-container-id-4 label.sk-toggleable__label-arrow:hover:before {color: black;}#sk-container-id-4 div.sk-estimator:hover label.sk-toggleable__label-arrow:before {color: black;}#sk-container-id-4 div.sk-toggleable__content {max-height: 0;max-width: 0;overflow: hidden;text-align: left;background-color: #f0f8ff;}#sk-container-id-4 div.sk-toggleable__content pre {margin: 0.2em;color: black;border-radius: 0.25em;background-color: #f0f8ff;}#sk-container-id-4 input.sk-toggleable__control:checked~div.sk-toggleable__content {max-height: 200px;max-width: 100%;overflow: auto;}#sk-container-id-4 input.sk-toggleable__control:checked~label.sk-toggleable__label-arrow:before {content: \"▾\";}#sk-container-id-4 div.sk-estimator input.sk-toggleable__control:checked~label.sk-toggleable__label {background-color: #d4ebff;}#sk-container-id-4 div.sk-label input.sk-toggleable__control:checked~label.sk-toggleable__label {background-color: #d4ebff;}#sk-container-id-4 input.sk-hidden--visually {border: 0;clip: rect(1px 1px 1px 1px);clip: rect(1px, 1px, 1px, 1px);height: 1px;margin: -1px;overflow: hidden;padding: 0;position: absolute;width: 1px;}#sk-container-id-4 div.sk-estimator {font-family: monospace;background-color: #f0f8ff;border: 1px dotted black;border-radius: 0.25em;box-sizing: border-box;margin-bottom: 0.5em;}#sk-container-id-4 div.sk-estimator:hover {background-color: #d4ebff;}#sk-container-id-4 div.sk-parallel-item::after {content: \"\";width: 100%;border-bottom: 1px solid gray;flex-grow: 1;}#sk-container-id-4 div.sk-label:hover label.sk-toggleable__label {background-color: #d4ebff;}#sk-container-id-4 div.sk-serial::before {content: \"\";position: absolute;border-left: 1px solid gray;box-sizing: border-box;top: 0;bottom: 0;left: 50%;z-index: 0;}#sk-container-id-4 div.sk-serial {display: flex;flex-direction: column;align-items: center;background-color: white;padding-right: 0.2em;padding-left: 0.2em;position: relative;}#sk-container-id-4 div.sk-item {position: relative;z-index: 1;}#sk-container-id-4 div.sk-parallel {display: flex;align-items: stretch;justify-content: center;background-color: white;position: relative;}#sk-container-id-4 div.sk-item::before, #sk-container-id-4 div.sk-parallel-item::before {content: \"\";position: absolute;border-left: 1px solid gray;box-sizing: border-box;top: 0;bottom: 0;left: 50%;z-index: -1;}#sk-container-id-4 div.sk-parallel-item {display: flex;flex-direction: column;z-index: 1;position: relative;background-color: white;}#sk-container-id-4 div.sk-parallel-item:first-child::after {align-self: flex-end;width: 50%;}#sk-container-id-4 div.sk-parallel-item:last-child::after {align-self: flex-start;width: 50%;}#sk-container-id-4 div.sk-parallel-item:only-child::after {width: 0;}#sk-container-id-4 div.sk-dashed-wrapped {border: 1px dashed gray;margin: 0 0.4em 0.5em 0.4em;box-sizing: border-box;padding-bottom: 0.4em;background-color: white;}#sk-container-id-4 div.sk-label label {font-family: monospace;font-weight: bold;display: inline-block;line-height: 1.2em;}#sk-container-id-4 div.sk-label-container {text-align: center;}#sk-container-id-4 div.sk-container {/* jupyter's `normalize.less` sets `[hidden] { display: none; }` but bootstrap.min.css set `[hidden] { display: none !important; }` so we also need the `!important` here to be able to override the default hidden behavior on the sphinx rendered scikit-learn.org. See: https://github.com/scikit-learn/scikit-learn/issues/21755 */display: inline-block !important;position: relative;}#sk-container-id-4 div.sk-text-repr-fallback {display: none;}</style><div id=\"sk-container-id-4\" class=\"sk-top-container\"><div class=\"sk-text-repr-fallback\"><pre>DummyRegressor(quantile=0.25, strategy=&#x27;median&#x27;)</pre><b>In a Jupyter environment, please rerun this cell to show the HTML representation or trust the notebook. <br />On GitHub, the HTML representation is unable to render, please try loading this page with nbviewer.org.</b></div><div class=\"sk-container\" hidden><div class=\"sk-item\"><div class=\"sk-estimator sk-toggleable\"><input class=\"sk-toggleable__control sk-hidden--visually\" id=\"sk-estimator-id-10\" type=\"checkbox\" checked><label for=\"sk-estimator-id-10\" class=\"sk-toggleable__label sk-toggleable__label-arrow\">DummyRegressor</label><div class=\"sk-toggleable__content\"><pre>DummyRegressor(quantile=0.25, strategy=&#x27;median&#x27;)</pre></div></div></div></div></div>"
      ],
      "text/plain": [
       "DummyRegressor(quantile=0.25, strategy='median')"
      ]
     },
     "execution_count": 43,
     "metadata": {},
     "output_type": "execute_result"
    }
   ],
   "source": [
    "# Best score\n",
    "grid_dummy.best_score_\n",
    "\n",
    "# Best Params\n",
    "grid_dummy.best_params_\n",
    "\n",
    "# Best estimator\n",
    "grid_dummy.best_estimator_"
   ]
  },
  {
   "cell_type": "code",
   "execution_count": null,
   "metadata": {},
   "outputs": [],
   "source": []
  }
 ],
 "metadata": {
  "kernelspec": {
   "display_name": "lewagon",
   "language": "python",
   "name": "python3"
  },
  "language_info": {
   "codemirror_mode": {
    "name": "ipython",
    "version": 3
   },
   "file_extension": ".py",
   "mimetype": "text/x-python",
   "name": "python",
   "nbconvert_exporter": "python",
   "pygments_lexer": "ipython3",
   "version": "3.8.6"
  },
  "orig_nbformat": 4
 },
 "nbformat": 4,
 "nbformat_minor": 2
}
