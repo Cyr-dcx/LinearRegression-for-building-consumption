{
 "cells": [
  {
   "attachments": {},
   "cell_type": "markdown",
   "metadata": {},
   "source": [
    "# Import package and data"
   ]
  },
  {
   "cell_type": "code",
   "execution_count": 1,
   "metadata": {},
   "outputs": [],
   "source": [
    "import pandas as pd\n",
    "import numpy as np\n",
    "import matplotlib.pyplot as plt\n",
    "import seaborn as sns\n",
    "import xgboost\n",
    "\n",
    "from sklearn.model_selection import train_test_split\n",
    "from sklearn.preprocessing import StandardScaler, MinMaxScaler, RobustScaler, PowerTransformer, QuantileTransformer, MaxAbsScaler\n",
    "from sklearn.model_selection import GridSearchCV\n",
    "from sklearn.compose import ColumnTransformer\n",
    "from sklearn.pipeline import Pipeline\n",
    "from sklearn.dummy import DummyRegressor\n",
    "from sklearn.linear_model import LinearRegression\n",
    "from sklearn.linear_model import Lasso\n",
    "from sklearn.linear_model import Ridge\n",
    "from sklearn.linear_model import ElasticNet\n",
    "\n",
    "from sklearn.tree import DecisionTreeRegressor\n",
    "from sklearn.ensemble import RandomForestRegressor\n",
    "from lightgbm import LGBMRegressor\n",
    "\n",
    "from sklearn.metrics import r2_score, mean_squared_error, mean_absolute_error"
   ]
  },
  {
   "cell_type": "code",
   "execution_count": 2,
   "metadata": {},
   "outputs": [],
   "source": [
    "DATA_PATH = \"../data/\"\n",
    "data = pd.read_csv(DATA_PATH+\"2016_Building_Energy_Benchmarking.csv\", sep=\",\", encoding=\"iso-8859-1\")"
   ]
  },
  {
   "attachments": {},
   "cell_type": "markdown",
   "metadata": {},
   "source": [
    "# Phase 1"
   ]
  },
  {
   "attachments": {},
   "cell_type": "markdown",
   "metadata": {},
   "source": [
    "## Cleaning"
   ]
  },
  {
   "cell_type": "code",
   "execution_count": 3,
   "metadata": {},
   "outputs": [
    {
     "name": "stdout",
     "output_type": "stream",
     "text": [
      "<class 'pandas.core.frame.DataFrame'>\n",
      "RangeIndex: 3376 entries, 0 to 3375\n",
      "Data columns (total 46 columns):\n",
      " #   Column                           Dtype  \n",
      "---  ------                           -----  \n",
      " 0   OSEBuildingID                    int64  \n",
      " 1   DataYear                         int64  \n",
      " 2   BuildingType                     object \n",
      " 3   PrimaryPropertyType              object \n",
      " 4   PropertyName                     object \n",
      " 5   Address                          object \n",
      " 6   City                             object \n",
      " 7   State                            object \n",
      " 8   ZipCode                          float64\n",
      " 9   TaxParcelIdentificationNumber    object \n",
      " 10  CouncilDistrictCode              int64  \n",
      " 11  Neighborhood                     object \n",
      " 12  Latitude                         float64\n",
      " 13  Longitude                        float64\n",
      " 14  YearBuilt                        int64  \n",
      " 15  NumberofBuildings                float64\n",
      " 16  NumberofFloors                   int64  \n",
      " 17  PropertyGFATotal                 int64  \n",
      " 18  PropertyGFAParking               int64  \n",
      " 19  PropertyGFABuilding(s)           int64  \n",
      " 20  ListOfAllPropertyUseTypes        object \n",
      " 21  LargestPropertyUseType           object \n",
      " 22  LargestPropertyUseTypeGFA        float64\n",
      " 23  SecondLargestPropertyUseType     object \n",
      " 24  SecondLargestPropertyUseTypeGFA  float64\n",
      " 25  ThirdLargestPropertyUseType      object \n",
      " 26  ThirdLargestPropertyUseTypeGFA   float64\n",
      " 27  YearsENERGYSTARCertified         object \n",
      " 28  ENERGYSTARScore                  float64\n",
      " 29  SiteEUI(kBtu/sf)                 float64\n",
      " 30  SiteEUIWN(kBtu/sf)               float64\n",
      " 31  SourceEUI(kBtu/sf)               float64\n",
      " 32  SourceEUIWN(kBtu/sf)             float64\n",
      " 33  SiteEnergyUse(kBtu)              float64\n",
      " 34  SiteEnergyUseWN(kBtu)            float64\n",
      " 35  SteamUse(kBtu)                   float64\n",
      " 36  Electricity(kWh)                 float64\n",
      " 37  Electricity(kBtu)                float64\n",
      " 38  NaturalGas(therms)               float64\n",
      " 39  NaturalGas(kBtu)                 float64\n",
      " 40  DefaultData                      bool   \n",
      " 41  Comments                         float64\n",
      " 42  ComplianceStatus                 object \n",
      " 43  Outlier                          object \n",
      " 44  TotalGHGEmissions                float64\n",
      " 45  GHGEmissionsIntensity            float64\n",
      "dtypes: bool(1), float64(22), int64(8), object(15)\n",
      "memory usage: 1.2+ MB\n"
     ]
    }
   ],
   "source": [
    "pd.set_option('display.max_info_rows',50)\n",
    "data.info()"
   ]
  },
  {
   "cell_type": "code",
   "execution_count": 4,
   "metadata": {},
   "outputs": [
    {
     "data": {
      "text/plain": [
       "SecondLargestPropertyUseType       0.502666\n",
       "SecondLargestPropertyUseTypeGFA    0.502666\n",
       "ThirdLargestPropertyUseType        0.823460\n",
       "ThirdLargestPropertyUseTypeGFA     0.823460\n",
       "YearsENERGYSTARCertified           0.964751\n",
       "ENERGYSTARScore                    0.249704\n",
       "Comments                           1.000000\n",
       "Outlier                            0.990521\n",
       "dtype: float64"
      ]
     },
     "execution_count": 4,
     "metadata": {},
     "output_type": "execute_result"
    }
   ],
   "source": [
    "data.isna().mean()[data.isna().mean() > 0.10]"
   ]
  },
  {
   "cell_type": "code",
   "execution_count": 5,
   "metadata": {},
   "outputs": [],
   "source": [
    "label_1 = \"TotalGHGEmissions\"\n",
    "label_2 = \"SiteEnergyUse(kBtu)\""
   ]
  },
  {
   "cell_type": "code",
   "execution_count": 6,
   "metadata": {},
   "outputs": [],
   "source": [
    "all_columns = list(data.columns)\n",
    "categorical_columns = [\"BuildingType\", \"PrimaryPropertyType\",\"PropertyName\",\"City\",\"State\",\"Address\",\"City\",\"State\",\n",
    "                       \"ZipCode\",\"CouncilDistrictCode\",\"Neighborhood\",\"ListOfAllPropertyUseTypes\",\n",
    "                       \"LargestPropertyUseType\",\"SecondLargestPropertyUseType\",\"ThirdLargestPropertyUseType\",\"ComplianceStatus\"]\n",
    "numerical_columns = [column for column in all_columns if column not in categorical_columns]"
   ]
  },
  {
   "cell_type": "code",
   "execution_count": 7,
   "metadata": {},
   "outputs": [],
   "source": [
    "# Premier nettoyage du dataframe\n",
    "def clean_data(df, to_drop):\n",
    "    print(\"--------- shape before cleaning ---------\")\n",
    "    print(df.shape)\n",
    "    df = df[df.ComplianceStatus == \"Compliant\"]\n",
    "    df.Outlier.fillna('not_outlier', inplace=True)\n",
    "    df.SecondLargestPropertyUseType.fillna('one_use', inplace=True)\n",
    "    df.ThirdLargestPropertyUseType.fillna('one_use', inplace=True)\n",
    "    df = df[df.NumberofBuildings != 0]\n",
    "    df = df[df.NumberofFloors != 0]\n",
    "    df = df[df['DefaultData'] == False]\n",
    "    df.loc[df['SecondLargestPropertyUseType'] == 'one_use', 'SecondLargestPropertyUseTypeGFA'] = 0\n",
    "    df.loc[df['ThirdLargestPropertyUseType'] == 'one_use', 'ThirdLargestPropertyUseTypeGFA'] = 0\n",
    "    df['Nb_PropertyUseTypes'] = df['ListOfAllPropertyUseTypes'].str.count(',') + 1\n",
    "    df[\"Building_age\"] = df[\"DataYear\"] - df[\"YearBuilt\"]\n",
    "    df['LargestPropertyUseType'] = df['LargestPropertyUseType'].fillna(df['PrimaryPropertyType'])\n",
    "    df['LargestPropertyUseTypeGFA'] = df['LargestPropertyUseTypeGFA'].fillna(df['PropertyGFATotal'])\n",
    "    df[\"%_LargestPropertyUseType\"] = df[\"LargestPropertyUseTypeGFA\"] / df[\"PropertyGFATotal\"]    \n",
    "    for col in to_drop:\n",
    "        if col in df.columns:\n",
    "            df = df.drop(columns=[col])\n",
    "    print(\"--------- shape before cleaning ---------\")\n",
    "    print(df.shape)\n",
    "    return df\n",
    "\n",
    "# Mise à jour des listes des colonnes\n",
    "def update_columns_list(list_1, dropped):\n",
    "    new_list = [col for col in list_1 if col not in dropped]\n",
    "    return new_list"
   ]
  },
  {
   "cell_type": "code",
   "execution_count": 8,
   "metadata": {},
   "outputs": [
    {
     "data": {
      "text/plain": [
       "True    3376\n",
       "dtype: int64"
      ]
     },
     "execution_count": 8,
     "metadata": {},
     "output_type": "execute_result"
    }
   ],
   "source": [
    "# Vérifier la GFA\n",
    "data[\"GFATotal\"] = data[\"PropertyGFAParking\"] + data[\"PropertyGFABuilding(s)\"]\n",
    "check_GPA = pd.Series(data[\"GFATotal\"] == data[\"PropertyGFATotal\"])\n",
    "data.drop(columns=[\"GFATotal\"], inplace=True)\n",
    "check_GPA.value_counts()"
   ]
  },
  {
   "cell_type": "code",
   "execution_count": 9,
   "metadata": {},
   "outputs": [],
   "source": [
    "data = data[~data.BuildingType.isin([\"Multifamily LR (1-4)\",\"Multifamily MR (5-9)\",\"Multifamily HR (10+)\"])]\n",
    "data[\"%_GFAParking\"] = data[\"PropertyGFAParking\"] / data[\"PropertyGFATotal\"]\n",
    "data[\"%_GFABuilding\"] = data[\"PropertyGFABuilding(s)\"] / data[\"PropertyGFATotal\"]\n"
   ]
  },
  {
   "cell_type": "code",
   "execution_count": 10,
   "metadata": {},
   "outputs": [],
   "source": [
    "columns_to_drop = [\"DataYear\",\"PropertyName\",\"Address\",\"City\",\"State\",\n",
    "                \"Latitude\",\"Longitude\",\"YearBuilt\",\"TaxParcelIdentificationNumber\",\n",
    "                \"YearsENERGYSTARCertified\",\"Comments\",\"DefaultData\",\"ComplianceStatus\",\n",
    "                \"SiteEnergyUseWN(kBtu)\",\"PropertyGFAParking\",\"PropertyGFABuilding(s)\",\"ListOfAllPropertyUseTypes\"]"
   ]
  },
  {
   "cell_type": "code",
   "execution_count": 11,
   "metadata": {},
   "outputs": [
    {
     "name": "stdout",
     "output_type": "stream",
     "text": [
      "--------- shape before cleaning ---------\n",
      "(1668, 48)\n",
      "--------- shape before cleaning ---------\n",
      "(1481, 34)\n"
     ]
    },
    {
     "name": "stderr",
     "output_type": "stream",
     "text": [
      "/Users/cyrielle/.pyenv/versions/3.8.6/envs/lewagon/lib/python3.8/site-packages/pandas/core/generic.py:6383: SettingWithCopyWarning: \n",
      "A value is trying to be set on a copy of a slice from a DataFrame\n",
      "\n",
      "See the caveats in the documentation: https://pandas.pydata.org/pandas-docs/stable/user_guide/indexing.html#returning-a-view-versus-a-copy\n",
      "  return self._update_inplace(result)\n"
     ]
    }
   ],
   "source": [
    "data = clean_data(data, columns_to_drop)\n",
    "categorical_columns = update_columns_list(categorical_columns,columns_to_drop)"
   ]
  },
  {
   "cell_type": "code",
   "execution_count": 12,
   "metadata": {},
   "outputs": [
    {
     "data": {
      "text/plain": [
       "NonResidential        1375\n",
       "Nonresidential COS      73\n",
       "Campus                  22\n",
       "SPS-District K-12       10\n",
       "Nonresidential WA        1\n",
       "Name: BuildingType, dtype: int64"
      ]
     },
     "execution_count": 12,
     "metadata": {},
     "output_type": "execute_result"
    }
   ],
   "source": [
    "data.BuildingType.value_counts()"
   ]
  },
  {
   "cell_type": "code",
   "execution_count": 13,
   "metadata": {},
   "outputs": [
    {
     "data": {
      "text/html": [
       "<div>\n",
       "<style scoped>\n",
       "    .dataframe tbody tr th:only-of-type {\n",
       "        vertical-align: middle;\n",
       "    }\n",
       "\n",
       "    .dataframe tbody tr th {\n",
       "        vertical-align: top;\n",
       "    }\n",
       "\n",
       "    .dataframe thead th {\n",
       "        text-align: right;\n",
       "    }\n",
       "</style>\n",
       "<table border=\"1\" class=\"dataframe\">\n",
       "  <thead>\n",
       "    <tr style=\"text-align: right;\">\n",
       "      <th></th>\n",
       "      <th>OSEBuildingID</th>\n",
       "      <th>BuildingType</th>\n",
       "      <th>PrimaryPropertyType</th>\n",
       "      <th>ZipCode</th>\n",
       "      <th>CouncilDistrictCode</th>\n",
       "      <th>Neighborhood</th>\n",
       "      <th>NumberofBuildings</th>\n",
       "      <th>NumberofFloors</th>\n",
       "      <th>PropertyGFATotal</th>\n",
       "      <th>LargestPropertyUseType</th>\n",
       "      <th>LargestPropertyUseTypeGFA</th>\n",
       "      <th>SecondLargestPropertyUseType</th>\n",
       "      <th>SecondLargestPropertyUseTypeGFA</th>\n",
       "      <th>ThirdLargestPropertyUseType</th>\n",
       "      <th>ThirdLargestPropertyUseTypeGFA</th>\n",
       "      <th>ENERGYSTARScore</th>\n",
       "      <th>SiteEUI(kBtu/sf)</th>\n",
       "      <th>SiteEUIWN(kBtu/sf)</th>\n",
       "      <th>SourceEUI(kBtu/sf)</th>\n",
       "      <th>SourceEUIWN(kBtu/sf)</th>\n",
       "      <th>SiteEnergyUse(kBtu)</th>\n",
       "      <th>SteamUse(kBtu)</th>\n",
       "      <th>Electricity(kWh)</th>\n",
       "      <th>Electricity(kBtu)</th>\n",
       "      <th>NaturalGas(therms)</th>\n",
       "      <th>NaturalGas(kBtu)</th>\n",
       "      <th>Outlier</th>\n",
       "      <th>TotalGHGEmissions</th>\n",
       "      <th>GHGEmissionsIntensity</th>\n",
       "      <th>%_GFAParking</th>\n",
       "      <th>%_GFABuilding</th>\n",
       "      <th>Nb_PropertyUseTypes</th>\n",
       "      <th>Building_age</th>\n",
       "      <th>%_LargestPropertyUseType</th>\n",
       "    </tr>\n",
       "  </thead>\n",
       "  <tbody>\n",
       "    <tr>\n",
       "      <th>0</th>\n",
       "      <td>1</td>\n",
       "      <td>NonResidential</td>\n",
       "      <td>Hotel</td>\n",
       "      <td>98101.0</td>\n",
       "      <td>7</td>\n",
       "      <td>DOWNTOWN</td>\n",
       "      <td>1.0</td>\n",
       "      <td>12</td>\n",
       "      <td>88434</td>\n",
       "      <td>Hotel</td>\n",
       "      <td>88434.0</td>\n",
       "      <td>one_use</td>\n",
       "      <td>0.0</td>\n",
       "      <td>one_use</td>\n",
       "      <td>0.0</td>\n",
       "      <td>60.0</td>\n",
       "      <td>81.699997</td>\n",
       "      <td>84.300003</td>\n",
       "      <td>182.500000</td>\n",
       "      <td>189.000000</td>\n",
       "      <td>7226362.5</td>\n",
       "      <td>2003882.00</td>\n",
       "      <td>1.156514e+06</td>\n",
       "      <td>3946027.0</td>\n",
       "      <td>12764.52930</td>\n",
       "      <td>1276453.0</td>\n",
       "      <td>not_outlier</td>\n",
       "      <td>249.98</td>\n",
       "      <td>2.83</td>\n",
       "      <td>0.000000</td>\n",
       "      <td>1.000000</td>\n",
       "      <td>1</td>\n",
       "      <td>89</td>\n",
       "      <td>1.000000</td>\n",
       "    </tr>\n",
       "    <tr>\n",
       "      <th>1</th>\n",
       "      <td>2</td>\n",
       "      <td>NonResidential</td>\n",
       "      <td>Hotel</td>\n",
       "      <td>98101.0</td>\n",
       "      <td>7</td>\n",
       "      <td>DOWNTOWN</td>\n",
       "      <td>1.0</td>\n",
       "      <td>11</td>\n",
       "      <td>103566</td>\n",
       "      <td>Hotel</td>\n",
       "      <td>83880.0</td>\n",
       "      <td>Parking</td>\n",
       "      <td>15064.0</td>\n",
       "      <td>Restaurant</td>\n",
       "      <td>4622.0</td>\n",
       "      <td>61.0</td>\n",
       "      <td>94.800003</td>\n",
       "      <td>97.900002</td>\n",
       "      <td>176.100006</td>\n",
       "      <td>179.399994</td>\n",
       "      <td>8387933.0</td>\n",
       "      <td>0.00</td>\n",
       "      <td>9.504252e+05</td>\n",
       "      <td>3242851.0</td>\n",
       "      <td>51450.81641</td>\n",
       "      <td>5145082.0</td>\n",
       "      <td>not_outlier</td>\n",
       "      <td>295.86</td>\n",
       "      <td>2.86</td>\n",
       "      <td>0.145453</td>\n",
       "      <td>0.854547</td>\n",
       "      <td>3</td>\n",
       "      <td>20</td>\n",
       "      <td>0.809918</td>\n",
       "    </tr>\n",
       "    <tr>\n",
       "      <th>2</th>\n",
       "      <td>3</td>\n",
       "      <td>NonResidential</td>\n",
       "      <td>Hotel</td>\n",
       "      <td>98101.0</td>\n",
       "      <td>7</td>\n",
       "      <td>DOWNTOWN</td>\n",
       "      <td>1.0</td>\n",
       "      <td>41</td>\n",
       "      <td>956110</td>\n",
       "      <td>Hotel</td>\n",
       "      <td>756493.0</td>\n",
       "      <td>one_use</td>\n",
       "      <td>0.0</td>\n",
       "      <td>one_use</td>\n",
       "      <td>0.0</td>\n",
       "      <td>43.0</td>\n",
       "      <td>96.000000</td>\n",
       "      <td>97.699997</td>\n",
       "      <td>241.899994</td>\n",
       "      <td>244.100006</td>\n",
       "      <td>72587024.0</td>\n",
       "      <td>21566554.00</td>\n",
       "      <td>1.451544e+07</td>\n",
       "      <td>49526664.0</td>\n",
       "      <td>14938.00000</td>\n",
       "      <td>1493800.0</td>\n",
       "      <td>not_outlier</td>\n",
       "      <td>2089.28</td>\n",
       "      <td>2.19</td>\n",
       "      <td>0.205748</td>\n",
       "      <td>0.794252</td>\n",
       "      <td>1</td>\n",
       "      <td>47</td>\n",
       "      <td>0.791220</td>\n",
       "    </tr>\n",
       "    <tr>\n",
       "      <th>3</th>\n",
       "      <td>5</td>\n",
       "      <td>NonResidential</td>\n",
       "      <td>Hotel</td>\n",
       "      <td>98101.0</td>\n",
       "      <td>7</td>\n",
       "      <td>DOWNTOWN</td>\n",
       "      <td>1.0</td>\n",
       "      <td>10</td>\n",
       "      <td>61320</td>\n",
       "      <td>Hotel</td>\n",
       "      <td>61320.0</td>\n",
       "      <td>one_use</td>\n",
       "      <td>0.0</td>\n",
       "      <td>one_use</td>\n",
       "      <td>0.0</td>\n",
       "      <td>56.0</td>\n",
       "      <td>110.800003</td>\n",
       "      <td>113.300003</td>\n",
       "      <td>216.199997</td>\n",
       "      <td>224.000000</td>\n",
       "      <td>6794584.0</td>\n",
       "      <td>2214446.25</td>\n",
       "      <td>8.115253e+05</td>\n",
       "      <td>2768924.0</td>\n",
       "      <td>18112.13086</td>\n",
       "      <td>1811213.0</td>\n",
       "      <td>not_outlier</td>\n",
       "      <td>286.43</td>\n",
       "      <td>4.67</td>\n",
       "      <td>0.000000</td>\n",
       "      <td>1.000000</td>\n",
       "      <td>1</td>\n",
       "      <td>90</td>\n",
       "      <td>1.000000</td>\n",
       "    </tr>\n",
       "    <tr>\n",
       "      <th>4</th>\n",
       "      <td>8</td>\n",
       "      <td>NonResidential</td>\n",
       "      <td>Hotel</td>\n",
       "      <td>98121.0</td>\n",
       "      <td>7</td>\n",
       "      <td>DOWNTOWN</td>\n",
       "      <td>1.0</td>\n",
       "      <td>18</td>\n",
       "      <td>175580</td>\n",
       "      <td>Hotel</td>\n",
       "      <td>123445.0</td>\n",
       "      <td>Parking</td>\n",
       "      <td>68009.0</td>\n",
       "      <td>Swimming Pool</td>\n",
       "      <td>0.0</td>\n",
       "      <td>75.0</td>\n",
       "      <td>114.800003</td>\n",
       "      <td>118.699997</td>\n",
       "      <td>211.399994</td>\n",
       "      <td>215.600006</td>\n",
       "      <td>14172606.0</td>\n",
       "      <td>0.00</td>\n",
       "      <td>1.573449e+06</td>\n",
       "      <td>5368607.0</td>\n",
       "      <td>88039.98438</td>\n",
       "      <td>8803998.0</td>\n",
       "      <td>not_outlier</td>\n",
       "      <td>505.01</td>\n",
       "      <td>2.88</td>\n",
       "      <td>0.353115</td>\n",
       "      <td>0.646885</td>\n",
       "      <td>3</td>\n",
       "      <td>36</td>\n",
       "      <td>0.703070</td>\n",
       "    </tr>\n",
       "  </tbody>\n",
       "</table>\n",
       "</div>"
      ],
      "text/plain": [
       "   OSEBuildingID    BuildingType PrimaryPropertyType  ZipCode  \\\n",
       "0              1  NonResidential               Hotel  98101.0   \n",
       "1              2  NonResidential               Hotel  98101.0   \n",
       "2              3  NonResidential               Hotel  98101.0   \n",
       "3              5  NonResidential               Hotel  98101.0   \n",
       "4              8  NonResidential               Hotel  98121.0   \n",
       "\n",
       "   CouncilDistrictCode Neighborhood  NumberofBuildings  NumberofFloors  \\\n",
       "0                    7     DOWNTOWN                1.0              12   \n",
       "1                    7     DOWNTOWN                1.0              11   \n",
       "2                    7     DOWNTOWN                1.0              41   \n",
       "3                    7     DOWNTOWN                1.0              10   \n",
       "4                    7     DOWNTOWN                1.0              18   \n",
       "\n",
       "   PropertyGFATotal LargestPropertyUseType  LargestPropertyUseTypeGFA  \\\n",
       "0             88434                  Hotel                    88434.0   \n",
       "1            103566                  Hotel                    83880.0   \n",
       "2            956110                  Hotel                   756493.0   \n",
       "3             61320                  Hotel                    61320.0   \n",
       "4            175580                  Hotel                   123445.0   \n",
       "\n",
       "  SecondLargestPropertyUseType  SecondLargestPropertyUseTypeGFA  \\\n",
       "0                      one_use                              0.0   \n",
       "1                      Parking                          15064.0   \n",
       "2                      one_use                              0.0   \n",
       "3                      one_use                              0.0   \n",
       "4                      Parking                          68009.0   \n",
       "\n",
       "  ThirdLargestPropertyUseType  ThirdLargestPropertyUseTypeGFA  \\\n",
       "0                     one_use                             0.0   \n",
       "1                  Restaurant                          4622.0   \n",
       "2                     one_use                             0.0   \n",
       "3                     one_use                             0.0   \n",
       "4               Swimming Pool                             0.0   \n",
       "\n",
       "   ENERGYSTARScore  SiteEUI(kBtu/sf)  SiteEUIWN(kBtu/sf)  SourceEUI(kBtu/sf)  \\\n",
       "0             60.0         81.699997           84.300003          182.500000   \n",
       "1             61.0         94.800003           97.900002          176.100006   \n",
       "2             43.0         96.000000           97.699997          241.899994   \n",
       "3             56.0        110.800003          113.300003          216.199997   \n",
       "4             75.0        114.800003          118.699997          211.399994   \n",
       "\n",
       "   SourceEUIWN(kBtu/sf)  SiteEnergyUse(kBtu)  SteamUse(kBtu)  \\\n",
       "0            189.000000            7226362.5      2003882.00   \n",
       "1            179.399994            8387933.0            0.00   \n",
       "2            244.100006           72587024.0     21566554.00   \n",
       "3            224.000000            6794584.0      2214446.25   \n",
       "4            215.600006           14172606.0            0.00   \n",
       "\n",
       "   Electricity(kWh)  Electricity(kBtu)  NaturalGas(therms)  NaturalGas(kBtu)  \\\n",
       "0      1.156514e+06          3946027.0         12764.52930         1276453.0   \n",
       "1      9.504252e+05          3242851.0         51450.81641         5145082.0   \n",
       "2      1.451544e+07         49526664.0         14938.00000         1493800.0   \n",
       "3      8.115253e+05          2768924.0         18112.13086         1811213.0   \n",
       "4      1.573449e+06          5368607.0         88039.98438         8803998.0   \n",
       "\n",
       "       Outlier  TotalGHGEmissions  GHGEmissionsIntensity  %_GFAParking  \\\n",
       "0  not_outlier             249.98                   2.83      0.000000   \n",
       "1  not_outlier             295.86                   2.86      0.145453   \n",
       "2  not_outlier            2089.28                   2.19      0.205748   \n",
       "3  not_outlier             286.43                   4.67      0.000000   \n",
       "4  not_outlier             505.01                   2.88      0.353115   \n",
       "\n",
       "   %_GFABuilding  Nb_PropertyUseTypes  Building_age  %_LargestPropertyUseType  \n",
       "0       1.000000                    1            89                  1.000000  \n",
       "1       0.854547                    3            20                  0.809918  \n",
       "2       0.794252                    1            47                  0.791220  \n",
       "3       1.000000                    1            90                  1.000000  \n",
       "4       0.646885                    3            36                  0.703070  "
      ]
     },
     "execution_count": 13,
     "metadata": {},
     "output_type": "execute_result"
    }
   ],
   "source": [
    "pd.set_option('display.max_columns',50)\n",
    "data.head()"
   ]
  },
  {
   "cell_type": "code",
   "execution_count": 14,
   "metadata": {},
   "outputs": [],
   "source": [
    "data.ENERGYSTARScore = data.ENERGYSTARScore.fillna('no_score')\n",
    "data = data[data[\"ENERGYSTARScore\"] != 'no_score']"
   ]
  },
  {
   "cell_type": "code",
   "execution_count": 15,
   "metadata": {},
   "outputs": [],
   "source": [
    "features = ['BuildingType', 'PrimaryPropertyType', 'ZipCode',\n",
    "       'Neighborhood',  'Building_age','NumberofBuildings',\n",
    "       'NumberofFloors', 'PropertyGFATotal', 'LargestPropertyUseType',\n",
    "       'LargestPropertyUseTypeGFA',  '%_LargestPropertyUseType',\n",
    "       'SourceEUI(kBtu/sf)',\n",
    "       'SiteEnergyUse(kBtu)', 'SteamUse(kBtu)','Electricity(kBtu)','NaturalGas(kBtu)',\n",
    "       'TotalGHGEmissions',\n",
    "       '%_GFAParking', '%_GFABuilding','Nb_PropertyUseTypes']"
   ]
  },
  {
   "cell_type": "code",
   "execution_count": 16,
   "metadata": {},
   "outputs": [],
   "source": [
    "categorical_columns = update_columns_list(categorical_columns,columns_to_drop)\n",
    "numerical_columns = update_columns_list(numerical_columns,columns_to_drop)"
   ]
  },
  {
   "cell_type": "code",
   "execution_count": 17,
   "metadata": {},
   "outputs": [],
   "source": [
    "df = data[features]\n",
    "cat_features = [col for col in features if col in categorical_columns]\n",
    "num_features = [col for col in features if col in categorical_columns]"
   ]
  },
  {
   "attachments": {},
   "cell_type": "markdown",
   "metadata": {},
   "source": [
    "## Exploration label"
   ]
  },
  {
   "cell_type": "code",
   "execution_count": 18,
   "metadata": {},
   "outputs": [
    {
     "data": {
      "image/png": "[encoded data removed]",
      "text/plain": [
       "<Figure size 640x480 with 1 Axes>"
      ]
     },
     "metadata": {},
     "output_type": "display_data"
    }
   ],
   "source": [
    "plt.hist(df[\"TotalGHGEmissions\"]);"
   ]
  },
  {
   "cell_type": "code",
   "execution_count": 19,
   "metadata": {},
   "outputs": [
    {
     "data": {
      "text/plain": [
       "count      964.000000\n",
       "mean       193.268672\n",
       "std        873.974092\n",
       "min         -0.800000\n",
       "25%         20.165000\n",
       "50%         49.215000\n",
       "75%        140.090000\n",
       "max      16870.980000\n",
       "Name: TotalGHGEmissions, dtype: float64"
      ]
     },
     "execution_count": 19,
     "metadata": {},
     "output_type": "execute_result"
    }
   ],
   "source": [
    "df[\"TotalGHGEmissions\"].describe()"
   ]
  },
  {
   "cell_type": "code",
   "execution_count": 20,
   "metadata": {},
   "outputs": [
    {
     "data": {
      "text/plain": [
       "0.00      -0.8000\n",
       "0.50      49.2150\n",
       "0.98    1008.6684\n",
       "Name: TotalGHGEmissions, dtype: float64"
      ]
     },
     "execution_count": 20,
     "metadata": {},
     "output_type": "execute_result"
    }
   ],
   "source": [
    "df[\"TotalGHGEmissions\"].quantile([0, .5, 0.98])"
   ]
  },
  {
   "cell_type": "code",
   "execution_count": 21,
   "metadata": {},
   "outputs": [],
   "source": [
    "df = df[df[\"TotalGHGEmissions\"] <= df[\"TotalGHGEmissions\"].quantile([0.98])[0.98]]\n",
    "df = df[df[\"TotalGHGEmissions\"] > 0]"
   ]
  },
  {
   "cell_type": "code",
   "execution_count": 22,
   "metadata": {},
   "outputs": [
    {
     "data": {
      "image/png": "[encoded data removed]",
      "text/plain": [
       "<Figure size 640x480 with 1 Axes>"
      ]
     },
     "metadata": {},
     "output_type": "display_data"
    }
   ],
   "source": [
    "plt.hist(df[label_2]);"
   ]
  },
  {
   "cell_type": "code",
   "execution_count": 23,
   "metadata": {},
   "outputs": [
    {
     "data": {
      "text/plain": [
       "count    942.000000\n",
       "mean     106.159830\n",
       "std      145.085844\n",
       "min        0.810000\n",
       "25%       19.937500\n",
       "50%       47.975000\n",
       "75%      130.575000\n",
       "max      940.470000\n",
       "Name: TotalGHGEmissions, dtype: float64"
      ]
     },
     "execution_count": 23,
     "metadata": {},
     "output_type": "execute_result"
    }
   ],
   "source": [
    "df[label_1].describe()"
   ]
  },
  {
   "cell_type": "code",
   "execution_count": 24,
   "metadata": {},
   "outputs": [
    {
     "data": {
      "text/plain": [
       "count    9.420000e+02\n",
       "mean     6.206883e+06\n",
       "std      9.461551e+06\n",
       "min      7.971180e+04\n",
       "25%      1.236609e+06\n",
       "50%      2.687720e+06\n",
       "75%      7.033444e+06\n",
       "max      9.293764e+07\n",
       "Name: SiteEnergyUse(kBtu), dtype: float64"
      ]
     },
     "execution_count": 24,
     "metadata": {},
     "output_type": "execute_result"
    }
   ],
   "source": [
    "df[label_2].describe()"
   ]
  },
  {
   "attachments": {},
   "cell_type": "markdown",
   "metadata": {},
   "source": [
    "## Categorical features"
   ]
  },
  {
   "cell_type": "code",
   "execution_count": 25,
   "metadata": {},
   "outputs": [
    {
     "data": {
      "text/plain": [
       "(4, 16, 38, 18, 19)"
      ]
     },
     "execution_count": 25,
     "metadata": {},
     "output_type": "execute_result"
    }
   ],
   "source": [
    "df.BuildingType.nunique(), df.PrimaryPropertyType.nunique(), df.ZipCode.nunique(), df.Neighborhood.nunique(), df.LargestPropertyUseType.nunique()"
   ]
  },
  {
   "cell_type": "code",
   "execution_count": 26,
   "metadata": {},
   "outputs": [],
   "source": [
    "def pipe_ohe(df):\n",
    "    \n",
    "    #### encoder la colonne LargestPropertyUseType ###\n",
    "    # Ajouter les colonnes encodées au dataframe d'origine\n",
    "    # Supprimer la colonne originale\n",
    "    onehot_encoded = pd.get_dummies(df['LargestPropertyUseType'], prefix='LargestPropertyUseType')\n",
    "    df = pd.concat([df, onehot_encoded], axis=1)\n",
    "    df.drop('LargestPropertyUseType', axis=1, inplace=True)\n",
    "    \n",
    "    #### encoder la colonne BuildingType ###\n",
    "    # Ajouter les colonnes encodées au dataframe d'origine\n",
    "    # Supprimer la colonne originale\n",
    "    onehot_encoded_BuildingType = pd.get_dummies(df['BuildingType'], prefix='BuildingType')\n",
    "    df = pd.concat([df, onehot_encoded_BuildingType], axis=1)\n",
    "    df.drop('BuildingType', axis=1, inplace=True)\n",
    "    \n",
    "    ### Remplacer les valeurs 1/0 de LargestPropertyUseType_ par leur % de la surface totale\n",
    "    # Liste des colonnes à remplacer\n",
    "    # Boucle pour remplacer les valeurs dans chaque colonne\n",
    "    cols_to_replace = list(df.filter(like=\"LargestPropertyUseType_\").columns)\n",
    "    for col in cols_to_replace:\n",
    "        df[col] = df.apply(lambda row: row[\"%_LargestPropertyUseType\"] if row[col] == 1 else 0, axis=1)    \n",
    "    df.drop(columns=[\"%_LargestPropertyUseType\"], inplace=True)\n",
    "    \n",
    "    return df\n",
    "    "
   ]
  },
  {
   "cell_type": "code",
   "execution_count": 27,
   "metadata": {},
   "outputs": [
    {
     "name": "stdout",
     "output_type": "stream",
     "text": [
      "(800, 40) (142, 40)\n",
      "(800, 40) (142, 40)\n"
     ]
    }
   ],
   "source": [
    "X = pipe_ohe(df)\n",
    "y1 = df[[label_1]]\n",
    "y2 = df[[label_2]]\n",
    "\n",
    "X_enrg_train, X_enrg_test, y_nrg_train, y_nrg_test = train_test_split(X,y1,test_size=0.15, random_state=42, stratify=df[\"BuildingType\"])\n",
    "print(X_enrg_train.shape, X_enrg_test.shape)\n",
    "\n",
    "# séparer la donnée pour avoir les \n",
    "X_ghge_train, X_ghge_test, y_ghe_train, y_ghe_test = train_test_split(X,y2,test_size=0.15, random_state=42, stratify=df[\"BuildingType\"])\n",
    "print(X_ghge_train.shape, X_ghge_test.shape)"
   ]
  },
  {
   "cell_type": "code",
   "execution_count": 28,
   "metadata": {},
   "outputs": [],
   "source": [
    "index_X_enrg_test = X_enrg_test.index\n",
    "df_nrg_selection = df.loc[index_X_enrg_test]\n",
    "\n",
    "index_X_ghge_test = X_ghge_test.index\n",
    "df_ghe_selection = df.loc[index_X_ghge_test]"
   ]
  },
  {
   "cell_type": "code",
   "execution_count": 29,
   "metadata": {},
   "outputs": [],
   "source": [
    "def pipe(df, means_zipcode=None, \n",
    "                means_neighborhood=None,\n",
    "                means_ppropertype=None, \n",
    "                col_for_mean=\"PropertyGFATotal\", \n",
    "                scaler=None,\n",
    "                label_1=label_1,\n",
    "                label_2=label_2):\n",
    "    #### encoder la colonne ZipCode ###\n",
    "    # encoding ZipCode with mean encoding and TotalGHGEmissions #\n",
    "    # Calculer la moyenne de la colonne cible (label2) pour chaque code postal\n",
    "    # Encoder la colonne code postal en fonction de la moyenne de la colonne cible\n",
    "    # Supprimer la colonne originale\n",
    "    mean_encoding_nan = df[col_for_mean].mean()\n",
    "    if means_zipcode is None:\n",
    "        means_zipcode = df.groupby('ZipCode')[col_for_mean].mean()\n",
    "    df['Code_postal_encoded'] = df['ZipCode'].map(means_zipcode)\n",
    "    df['Code_postal_encoded'].fillna(mean_encoding_nan, inplace=True)\n",
    "    \n",
    "    ### encoder la colonne Neighborhood ###\n",
    "    # Calculer la moyenne de la colonne cible (label2) pour chaque quartier\n",
    "    # Encoder la colonne quartier en fonction de la moyenne de la colonne cible\n",
    "    # Supprimer la colonne originale\n",
    "    if means_neighborhood is None:\n",
    "        means_neighborhood = df.groupby('Neighborhood')[col_for_mean].mean()\n",
    "    df['neighborhood_encoded'] = df['Neighborhood'].map(means_neighborhood)\n",
    "    df.drop(columns=['Neighborhood'],inplace=True)\n",
    "    df['neighborhood_encoded'].fillna(mean_encoding_nan, inplace=True)\n",
    "    \n",
    "    \n",
    "    ### encoder la colonne PrimaryPropertyType with mean encoding  ###\n",
    "    # Calculer la moyenne de la colonne cible (label2) pour chaque PrimaryPropertyType\n",
    "    # Encoder la colonne PrimaryPropertyType en fonction de la moyenne de la colonne cible\n",
    "    # Supprimer la colonne catégorielle\n",
    "    if means_ppropertype is None:\n",
    "        means_ppropertype = df.groupby('PrimaryPropertyType')[col_for_mean].mean()\n",
    "    df['PrimaryPropertyType_encoded'] = df['PrimaryPropertyType'].map(means_ppropertype)\n",
    "    df.drop(columns=['PrimaryPropertyType'],inplace=True)\n",
    "    df['PrimaryPropertyType_encoded'].fillna(mean_encoding_nan, inplace=True)\n",
    "    \n",
    "    #supprimer les labels du jeu de données\n",
    "    df = df.drop(columns=[label_1,label_2])\n",
    "    df.drop(columns=['SourceEUI(kBtu/sf)', 'SteamUse(kBtu)','Electricity(kBtu)', 'NaturalGas(kBtu)'], inplace=True)\n",
    "    \n",
    "    #scaler\n",
    "    # if scaler is None:\n",
    "    #     scaler=StandardScaler()\n",
    "    #     df_scaled = scaler.fit_transform(df)\n",
    "    #     print(\"check scaler standard scaler\")\n",
    "    # else:\n",
    "    #     df_scaled = scaler.transform(df)\n",
    "    #     print(\"check scaler the train scaler\")\n",
    "    \n",
    "    return df, means_zipcode, means_neighborhood, means_ppropertype, df.columns\n",
    "    "
   ]
  },
  {
   "cell_type": "code",
   "execution_count": 30,
   "metadata": {},
   "outputs": [
    {
     "data": {
      "text/plain": [
       "Index(['BuildingType', 'PrimaryPropertyType', 'ZipCode', 'Neighborhood',\n",
       "       'Building_age', 'NumberofBuildings', 'NumberofFloors',\n",
       "       'PropertyGFATotal', 'LargestPropertyUseType',\n",
       "       'LargestPropertyUseTypeGFA', '%_LargestPropertyUseType',\n",
       "       'SourceEUI(kBtu/sf)', 'SiteEnergyUse(kBtu)', 'SteamUse(kBtu)',\n",
       "       'Electricity(kBtu)', 'NaturalGas(kBtu)', 'TotalGHGEmissions',\n",
       "       '%_GFAParking', '%_GFABuilding', 'Nb_PropertyUseTypes'],\n",
       "      dtype='object')"
      ]
     },
     "execution_count": 30,
     "metadata": {},
     "output_type": "execute_result"
    }
   ],
   "source": [
    "df.columns"
   ]
  },
  {
   "cell_type": "code",
   "execution_count": 31,
   "metadata": {},
   "outputs": [],
   "source": [
    "X_nrg_train, means_zipcode_enrg, means_neighborhood_enrg, means_ppropertype_enrg, columns_enrg = pipe(X_enrg_train,col_for_mean=label_1)\n",
    "X_nrg_test, means_zipcode_enrg, means_neighborhood_enrg, means_ppropertype_enrg, a = pipe(X_enrg_test,\n",
    "                                                                        means_zipcode=means_zipcode_enrg,\n",
    "                                                                        means_neighborhood=means_neighborhood_enrg,\n",
    "                                                                        means_ppropertype=means_ppropertype_enrg,\n",
    "                                                                        col_for_mean=label_1)"
   ]
  },
  {
   "cell_type": "code",
   "execution_count": 32,
   "metadata": {},
   "outputs": [],
   "source": [
    "X_ghe_train, means_zipcode_ghe, means_neighborhood_ghe, means_ppropertype_ghe, columns_ghe = pipe(X_ghge_train,col_for_mean=label_2)\n",
    "X_ghe_test, means_zipcode_ghe, means_neighborhood_ghe, means_ppropertype_ghe, b = pipe(X_ghge_test, \n",
    "                                                                        means_zipcode=means_zipcode_ghe,\n",
    "                                                                        means_neighborhood=means_neighborhood_ghe,\n",
    "                                                                        means_ppropertype=means_ppropertype_ghe,\n",
    "                                                                        col_for_mean=label_2)"
   ]
  },
  {
   "cell_type": "code",
   "execution_count": 33,
   "metadata": {},
   "outputs": [
    {
     "name": "stdout",
     "output_type": "stream",
     "text": [
      "(800, 35) (142, 35)\n",
      "(800, 35) (142, 35)\n"
     ]
    }
   ],
   "source": [
    "print(X_nrg_train.shape, X_nrg_test.shape), \n",
    "print(X_ghe_train.shape, X_ghe_test.shape)"
   ]
  },
  {
   "attachments": {},
   "cell_type": "markdown",
   "metadata": {},
   "source": [
    "## Modèles"
   ]
  },
  {
   "attachments": {},
   "cell_type": "markdown",
   "metadata": {},
   "source": [
    "###  Results functions"
   ]
  },
  {
   "cell_type": "code",
   "execution_count": 34,
   "metadata": {},
   "outputs": [],
   "source": [
    "def results_printed(model):\n",
    "    # Best score                     \n",
    "    print(f\"Best score : {model.best_score_}\")\n",
    "    \n",
    "    # Best Params\n",
    "    print(f\"Best params :\\n {model.best_params_}\")"
   ]
  },
  {
   "cell_type": "code",
   "execution_count": 35,
   "metadata": {},
   "outputs": [],
   "source": [
    "metrics_df_nrg = pd.DataFrame(columns=[\"label\",\"modèle\",\"r2_train\",\"r2_test\",\"mae\",\"rmse\",\"mean_fit_time\",\"best_params\"])\n",
    "metrics_df_ghe = pd.DataFrame(columns=[\"label\",\"modèle\",\"r2_train\",\"r2_test\",\"mae\",\"rmse\",\"mean_fit_time\",\"best_params\"])\n",
    "\n",
    "def add_metrics_table(label,y_pred,y_test,df,model, X_train, y_train):\n",
    "    r2_train = round(model.score(X_train, y_train,),4)\n",
    "    r2_test = round(r2_score(y_test, y_pred), 4)\n",
    "    mae = round(mean_absolute_error(y_test, y_pred), 4)\n",
    "    rmse = round(mean_squared_error(y_test, y_pred), 4)\n",
    "    df = df.append({\n",
    "    \"label\": label,\n",
    "    \"modèle\": model.best_estimator_,\n",
    "    \"r2_train\":'{:.3f}'.format(r2_train),\n",
    "    \"r2_test\": '{:.3f}'.format(r2_test),\n",
    "    \"mae\": '{:.3f}'.format(mae),\n",
    "    \"rmse\": '{:.3f}'.format(rmse),\n",
    "    \"mean_fit_time\": model.cv_results_['mean_fit_time'].mean(),\n",
    "    \"best_params\": model.best_params_\n",
    "    }, ignore_index=True)\n",
    "    return df\n",
    "\n",
    "scoring = [\"r2\", \"neg_mean_absolute_error\", \"neg_root_mean_squared_error\"]\n",
    "\n",
    "def evaluate_prediction(label, X_test, y_test, metrics_df, model, X_train, y_train):\n",
    "    y_pred = model.predict(X_test)\n",
    "\n",
    "    metrics_df = add_metrics_table(label, y_pred, y_test, metrics_df, model, X_train, y_train)\n",
    "\n",
    "    # Créer le scatter plot\n",
    "    plt.scatter(y_pred, y_test)\n",
    "\n",
    "    # Ajouter une ligne diagonale pour représenter la ligne de prédiction parfaite\n",
    "    plt.plot([y_test.min(), y_test.max()], [y_test.min(), y_test.max()], 'k--', lw=2)\n",
    "\n",
    "    # Ajouter des labels pour les axes et le titre du plot\n",
    "    plt.xlabel('Prédictions')\n",
    "    plt.ylabel('Valeurs réelles')\n",
    "    plt.title('Comparaison des prédictions et des valeurs réelles')\n",
    "\n",
    "    # Afficher le plot\n",
    "    plt.show()\n",
    "    display(metrics_df)\n",
    "    return metrics_df, y_pred"
   ]
  },
  {
   "cell_type": "code",
   "execution_count": 36,
   "metadata": {},
   "outputs": [],
   "source": [
    "def hist_errors(y_test, y_pred):\n",
    "    y_test = np.array(y_test).reshape(-1,)\n",
    "    diff = y_test - y_pred\n",
    "    mean = diff.mean()\n",
    "    std = diff.std()\n",
    "    plt.hist(diff, bins=40)\n",
    "    plt.vlines(mean, 0, 30, color='red', label=f'mean = {mean:.2f}')\n",
    "    plt.hlines(30, mean - 1/2 * std, mean + 1/2 * std, color='red', label=f'std = {std:.2f}', ls='dotted')\n",
    "    plt.title('Histogram of prediction errors')\n",
    "    plt.xlabel('prediction error')\n",
    "    plt.ylabel('Frequency')\n",
    "    \n",
    "    # Showing the legend\n",
    "    plt.legend(loc='upper right')\n",
    "    plt.show()"
   ]
  },
  {
   "cell_type": "code",
   "execution_count": 37,
   "metadata": {},
   "outputs": [],
   "source": [
    "def show_fetures_coef(model, columns):\n",
    "    coef = model.best_estimator_.coef_\n",
    "    if coef.ndim == 2 and coef.shape[0] == 1:\n",
    "        coef = coef[0]\n",
    "    features_coef = pd.DataFrame(coef.reshape(1,-1), columns=list(columns))\n",
    "    columns = list(reversed(features_coef.columns))\n",
    "    coef = list(reversed(coef))\n",
    "    \n",
    "    \n",
    "    plt.figure(figsize=(14,8))\n",
    "    # Créer un graphique à barres horizontales\n",
    "    plt.barh(columns, coef)\n",
    "\n",
    "    # Récupérer les étiquettes de l'axe des abscisses\n",
    "    labels = plt.gca().get_yticklabels()\n",
    "\n",
    "    # Parcourir les étiquettes et appliquer un style différent aux étiquettes non nulles\n",
    "    for label, value in zip(labels, coef):\n",
    "        if value != -0:\n",
    "            label.set_color('red')  # Appliquer une couleur rouge aux étiquettes non nulles\n",
    "        else:\n",
    "            label.set_color('black')  # Appliquer une couleur noire aux étiquettes nulles\n",
    "\n",
    "    plt.show()"
   ]
  },
  {
   "cell_type": "code",
   "execution_count": 38,
   "metadata": {},
   "outputs": [],
   "source": [
    "def error_per_category(df, y_test, y_pred, feature):\n",
    "    df[\"error_pred\"] = (np.array(y_test).reshape(-1,) - y_pred)\n",
    "    df_grouped = df.groupby(feature).mean()['error_pred']\n",
    "    counts = df[feature].value_counts()\n",
    "\n",
    "    # Créer le graphique montrant la moyenne des erreurs et le nombre d'occurrences\n",
    "    fig, ax = plt.subplots()\n",
    "\n",
    "    # Afficher les barres de la moyenne des erreurs\n",
    "    ax.bar(df_grouped.index, df_grouped.values)\n",
    "\n",
    "    # Ajouter le nombre d'occurrences sur les barres de la moyenne des erreurs\n",
    "    for i, v in enumerate(df_grouped.values):\n",
    "        ax.text(i, v, str(counts[df_grouped.index[i]]), ha='center', va='bottom')\n",
    "\n",
    "    # Ajouter une légende\n",
    "    ax.text(0.05, -0.2, f'{counts[df_grouped.index[i]]}:Nombre d\\'occurrences dans le jeu de test', transform=ax.transAxes)\n",
    "\n",
    "    ax.set_xlabel(feature)\n",
    "    ax.set_ylabel('Moyenne des erreurs')\n",
    "\n",
    "    # Changer la taille de la figure\n",
    "    fig.set_size_inches(8, 4)\n",
    "    \n",
    "    # Ajouter un espace supplémentaire de 10% au-dessus et en dessous des barres du graphique\n",
    "    ax.margins(y=0.1)\n",
    "    \n",
    "    plt.show()"
   ]
  },
  {
   "cell_type": "code",
   "execution_count": 39,
   "metadata": {},
   "outputs": [],
   "source": [
    "def error_all_category(df, y_test, y_pred, features):\n",
    "    # Créer une figure avec des subplots\n",
    "    fig, axs = plt.subplots(nrows=len(features), ncols=1, figsize=(8, 4 * len(features)), gridspec_kw={'hspace': 0.6})\n",
    "    axs[0].set_ylabel('Moyenne des erreurs')\n",
    "\n",
    "    # Boucle sur les features\n",
    "    for i, feature in enumerate(features):\n",
    "        # Récupérer l'axe courant\n",
    "        ax = axs[i]\n",
    "\n",
    "        # Calculer les erreurs moyennes pour chaque catégorie\n",
    "        df[\"error_pred\"] = abs((np.array(y_test).reshape(-1,) - y_pred))\n",
    "        df_grouped = df.groupby(feature).mean()['error_pred']\n",
    "        counts = df_nrg_selection[feature].value_counts()\n",
    "\n",
    "        # Afficher les barres de la moyenne des erreurs\n",
    "        ax.bar(df_grouped.index, df_grouped.values)\n",
    "\n",
    "        # Ajouter le nombre d'occurrences sur les barres de la moyenne des erreurs\n",
    "        for i, v in enumerate(df_grouped.values):\n",
    "            ax.text(i, v, str(counts[df_grouped.index[i]]), ha='center', va='bottom')\n",
    "\n",
    "        # Ajouter un titre pour chaque subplot\n",
    "        ax.set_title(feature)\n",
    "\n",
    "        # Ajouter un espace supplémentaire de 10% au-dessus et en dessous des barres du graphique\n",
    "        ax.margins(y=0.1)\n",
    "        \n",
    "        # Ajouter des étiquettes d'axe plus petites et penchées\n",
    "        ax.set_xticklabels(df_grouped.index, rotation=45, fontsize=7)\n",
    "\n",
    "    # Ajouter un titre pour le graphique global\n",
    "    fig.suptitle('Erreurs en fonction des variables catégorielles', y=0.95, fontsize=16)\n",
    "\n",
    "    # Afficher le graphique\n",
    "    plt.show()\n"
   ]
  },
  {
   "cell_type": "code",
   "execution_count": 40,
   "metadata": {},
   "outputs": [],
   "source": [
    "def error_discrete_feature(df, col):\n",
    "    # Créer un graphique en nuage de points pour représenter les erreurs\n",
    "    fig, ax = plt.subplots()\n",
    "    ax.scatter(df[col], df['error_pred'], label=col)\n",
    "\n",
    "    # Ajouter les labels des axes et la légende\n",
    "    ax.set_xlabel(col)\n",
    "    ax.set_ylabel('error_pred')\n",
    "\n",
    "    plt.show()"
   ]
  },
  {
   "cell_type": "code",
   "execution_count": 41,
   "metadata": {},
   "outputs": [],
   "source": [
    "def error_all_discr_category(df, y_test, y_pred, features):\n",
    "    # Créer une figure avec des subplots\n",
    "    fig, axs = plt.subplots(nrows=len(features), ncols=1, figsize=(8, 4 * len(features)), gridspec_kw={'hspace': 0.3})\n",
    "\n",
    "    # Calculer les erreurs moyennes pour chaque catégorie\n",
    "    df[\"error_pred\"] = abs((np.array(y_test).reshape(-1,) - y_pred))\n",
    "        \n",
    "    # Boucle sur les features\n",
    "    for i, feature in enumerate(features):\n",
    "        # Récupérer l'axe courant\n",
    "        ax = axs[i]\n",
    "\n",
    "        ax.scatter(df[feature], df['error_pred'], label=feature)\n",
    "\n",
    "        # Ajouter un titre pour chaque subplot\n",
    "        ax.set_title(feature)\n",
    "\n",
    "    # Ajouter un titre pour le graphique global\n",
    "    fig.suptitle('Erreurs en fonction des variables catégorielles', y=0.92, fontsize=16)\n",
    "\n",
    "    # Afficher le graphique\n",
    "    plt.show()\n",
    "\n",
    "disc_col_viz = [\"Building_age\",\"%_GFAParking\",\"%_GFABuilding\",\"LargestPropertyUseTypeGFA\",\"NumberofBuildings\",\"NumberofFloors\"]"
   ]
  },
  {
   "attachments": {},
   "cell_type": "markdown",
   "metadata": {},
   "source": [
    "### Pipeline with a scaler"
   ]
  },
  {
   "cell_type": "code",
   "execution_count": 42,
   "metadata": {},
   "outputs": [],
   "source": [
    "# Définir les normalizers à tester\n",
    "scalers = [\n",
    "    ('StandardScaler', StandardScaler()),\n",
    "    ('MinMaxScaler', MinMaxScaler()),\n",
    "    ('MaxAbsScaler', MaxAbsScaler())\n",
    "]"
   ]
  },
  {
   "attachments": {},
   "cell_type": "markdown",
   "metadata": {},
   "source": [
    "## Label 1 : energy"
   ]
  },
  {
   "attachments": {},
   "cell_type": "markdown",
   "metadata": {},
   "source": [
    "### Dummy regression"
   ]
  },
  {
   "cell_type": "code",
   "execution_count": 51,
   "metadata": {},
   "outputs": [
    {
     "data": {
      "text/html": [
       "<style>#sk-container-id-2 {color: black;background-color: white;}#sk-container-id-2 pre{padding: 0;}#sk-container-id-2 div.sk-toggleable {background-color: white;}#sk-container-id-2 label.sk-toggleable__label {cursor: pointer;display: block;width: 100%;margin-bottom: 0;padding: 0.3em;box-sizing: border-box;text-align: center;}#sk-container-id-2 label.sk-toggleable__label-arrow:before {content: \"▸\";float: left;margin-right: 0.25em;color: #696969;}#sk-container-id-2 label.sk-toggleable__label-arrow:hover:before {color: black;}#sk-container-id-2 div.sk-estimator:hover label.sk-toggleable__label-arrow:before {color: black;}#sk-container-id-2 div.sk-toggleable__content {max-height: 0;max-width: 0;overflow: hidden;text-align: left;background-color: #f0f8ff;}#sk-container-id-2 div.sk-toggleable__content pre {margin: 0.2em;color: black;border-radius: 0.25em;background-color: #f0f8ff;}#sk-container-id-2 input.sk-toggleable__control:checked~div.sk-toggleable__content {max-height: 200px;max-width: 100%;overflow: auto;}#sk-container-id-2 input.sk-toggleable__control:checked~label.sk-toggleable__label-arrow:before {content: \"▾\";}#sk-container-id-2 div.sk-estimator input.sk-toggleable__control:checked~label.sk-toggleable__label {background-color: #d4ebff;}#sk-container-id-2 div.sk-label input.sk-toggleable__control:checked~label.sk-toggleable__label {background-color: #d4ebff;}#sk-container-id-2 input.sk-hidden--visually {border: 0;clip: rect(1px 1px 1px 1px);clip: rect(1px, 1px, 1px, 1px);height: 1px;margin: -1px;overflow: hidden;padding: 0;position: absolute;width: 1px;}#sk-container-id-2 div.sk-estimator {font-family: monospace;background-color: #f0f8ff;border: 1px dotted black;border-radius: 0.25em;box-sizing: border-box;margin-bottom: 0.5em;}#sk-container-id-2 div.sk-estimator:hover {background-color: #d4ebff;}#sk-container-id-2 div.sk-parallel-item::after {content: \"\";width: 100%;border-bottom: 1px solid gray;flex-grow: 1;}#sk-container-id-2 div.sk-label:hover label.sk-toggleable__label {background-color: #d4ebff;}#sk-container-id-2 div.sk-serial::before {content: \"\";position: absolute;border-left: 1px solid gray;box-sizing: border-box;top: 0;bottom: 0;left: 50%;z-index: 0;}#sk-container-id-2 div.sk-serial {display: flex;flex-direction: column;align-items: center;background-color: white;padding-right: 0.2em;padding-left: 0.2em;position: relative;}#sk-container-id-2 div.sk-item {position: relative;z-index: 1;}#sk-container-id-2 div.sk-parallel {display: flex;align-items: stretch;justify-content: center;background-color: white;position: relative;}#sk-container-id-2 div.sk-item::before, #sk-container-id-2 div.sk-parallel-item::before {content: \"\";position: absolute;border-left: 1px solid gray;box-sizing: border-box;top: 0;bottom: 0;left: 50%;z-index: -1;}#sk-container-id-2 div.sk-parallel-item {display: flex;flex-direction: column;z-index: 1;position: relative;background-color: white;}#sk-container-id-2 div.sk-parallel-item:first-child::after {align-self: flex-end;width: 50%;}#sk-container-id-2 div.sk-parallel-item:last-child::after {align-self: flex-start;width: 50%;}#sk-container-id-2 div.sk-parallel-item:only-child::after {width: 0;}#sk-container-id-2 div.sk-dashed-wrapped {border: 1px dashed gray;margin: 0 0.4em 0.5em 0.4em;box-sizing: border-box;padding-bottom: 0.4em;background-color: white;}#sk-container-id-2 div.sk-label label {font-family: monospace;font-weight: bold;display: inline-block;line-height: 1.2em;}#sk-container-id-2 div.sk-label-container {text-align: center;}#sk-container-id-2 div.sk-container {/* jupyter's `normalize.less` sets `[hidden] { display: none; }` but bootstrap.min.css set `[hidden] { display: none !important; }` so we also need the `!important` here to be able to override the default hidden behavior on the sphinx rendered scikit-learn.org. See: https://github.com/scikit-learn/scikit-learn/issues/21755 */display: inline-block !important;position: relative;}#sk-container-id-2 div.sk-text-repr-fallback {display: none;}</style><div id=\"sk-container-id-2\" class=\"sk-top-container\"><div class=\"sk-text-repr-fallback\"><pre>GridSearchCV(cv=5,\n",
       "             estimator=Pipeline(steps=[(&#x27;scaler&#x27;, StandardScaler()),\n",
       "                                       (&#x27;dummy_regr&#x27;, DummyRegressor())]),\n",
       "             n_jobs=-1,\n",
       "             param_grid={&#x27;dummy_regr__strategy&#x27;: (&#x27;mean&#x27;, &#x27;median&#x27;),\n",
       "                         &#x27;scaler&#x27;: [StandardScaler(), MinMaxScaler(),\n",
       "                                    MaxAbsScaler()]},\n",
       "             refit=&#x27;r2&#x27;,\n",
       "             scoring=[&#x27;r2&#x27;, &#x27;neg_mean_absolute_error&#x27;,\n",
       "                      &#x27;neg_root_mean_squared_error&#x27;])</pre><b>In a Jupyter environment, please rerun this cell to show the HTML representation or trust the notebook. <br />On GitHub, the HTML representation is unable to render, please try loading this page with nbviewer.org.</b></div><div class=\"sk-container\" hidden><div class=\"sk-item sk-dashed-wrapped\"><div class=\"sk-label-container\"><div class=\"sk-label sk-toggleable\"><input class=\"sk-toggleable__control sk-hidden--visually\" id=\"sk-estimator-id-5\" type=\"checkbox\" ><label for=\"sk-estimator-id-5\" class=\"sk-toggleable__label sk-toggleable__label-arrow\">GridSearchCV</label><div class=\"sk-toggleable__content\"><pre>GridSearchCV(cv=5,\n",
       "             estimator=Pipeline(steps=[(&#x27;scaler&#x27;, StandardScaler()),\n",
       "                                       (&#x27;dummy_regr&#x27;, DummyRegressor())]),\n",
       "             n_jobs=-1,\n",
       "             param_grid={&#x27;dummy_regr__strategy&#x27;: (&#x27;mean&#x27;, &#x27;median&#x27;),\n",
       "                         &#x27;scaler&#x27;: [StandardScaler(), MinMaxScaler(),\n",
       "                                    MaxAbsScaler()]},\n",
       "             refit=&#x27;r2&#x27;,\n",
       "             scoring=[&#x27;r2&#x27;, &#x27;neg_mean_absolute_error&#x27;,\n",
       "                      &#x27;neg_root_mean_squared_error&#x27;])</pre></div></div></div><div class=\"sk-parallel\"><div class=\"sk-parallel-item\"><div class=\"sk-item\"><div class=\"sk-label-container\"><div class=\"sk-label sk-toggleable\"><input class=\"sk-toggleable__control sk-hidden--visually\" id=\"sk-estimator-id-6\" type=\"checkbox\" ><label for=\"sk-estimator-id-6\" class=\"sk-toggleable__label sk-toggleable__label-arrow\">estimator: Pipeline</label><div class=\"sk-toggleable__content\"><pre>Pipeline(steps=[(&#x27;scaler&#x27;, StandardScaler()), (&#x27;dummy_regr&#x27;, DummyRegressor())])</pre></div></div></div><div class=\"sk-serial\"><div class=\"sk-item\"><div class=\"sk-serial\"><div class=\"sk-item\"><div class=\"sk-estimator sk-toggleable\"><input class=\"sk-toggleable__control sk-hidden--visually\" id=\"sk-estimator-id-7\" type=\"checkbox\" ><label for=\"sk-estimator-id-7\" class=\"sk-toggleable__label sk-toggleable__label-arrow\">StandardScaler</label><div class=\"sk-toggleable__content\"><pre>StandardScaler()</pre></div></div></div><div class=\"sk-item\"><div class=\"sk-estimator sk-toggleable\"><input class=\"sk-toggleable__control sk-hidden--visually\" id=\"sk-estimator-id-8\" type=\"checkbox\" ><label for=\"sk-estimator-id-8\" class=\"sk-toggleable__label sk-toggleable__label-arrow\">DummyRegressor</label><div class=\"sk-toggleable__content\"><pre>DummyRegressor()</pre></div></div></div></div></div></div></div></div></div></div></div></div>"
      ],
      "text/plain": [
       "GridSearchCV(cv=5,\n",
       "             estimator=Pipeline(steps=[('scaler', StandardScaler()),\n",
       "                                       ('dummy_regr', DummyRegressor())]),\n",
       "             n_jobs=-1,\n",
       "             param_grid={'dummy_regr__strategy': ('mean', 'median'),\n",
       "                         'scaler': [StandardScaler(), MinMaxScaler(),\n",
       "                                    MaxAbsScaler()]},\n",
       "             refit='r2',\n",
       "             scoring=['r2', 'neg_mean_absolute_error',\n",
       "                      'neg_root_mean_squared_error'])"
      ]
     },
     "execution_count": 51,
     "metadata": {},
     "output_type": "execute_result"
    }
   ],
   "source": [
    "# Créer le pipeline avec le scaler et le modèle\n",
    "pipeline = Pipeline([\n",
    "    ('scaler', StandardScaler()),\n",
    "    ('dummy_regr', DummyRegressor())\n",
    "])\n",
    "parameters = {\"dummy_regr__strategy\" : (\"mean\",\"median\"),\n",
    "            \"scaler\": [scaler for _, scaler in scalers]}\n",
    "grid_dummy_nrg = GridSearchCV(pipeline, \n",
    "                            param_grid=parameters,\n",
    "                            cv=5,\n",
    "                            n_jobs=-1, \n",
    "                            scoring=scoring,\n",
    "                            refit = \"r2\")\n",
    "grid_dummy_nrg.fit(X_nrg_train, y_nrg_train)"
   ]
  },
  {
   "cell_type": "code",
   "execution_count": null,
   "metadata": {},
   "outputs": [],
   "source": [
    "metrics_df_nrg, y_pred_dummy = evaluate_prediction(label_1,X_nrg_test, y_nrg_test, metrics_df_nrg, grid_dummy_nrg,X_nrg_train, y_nrg_train)"
   ]
  },
  {
   "attachments": {},
   "cell_type": "markdown",
   "metadata": {},
   "source": [
    "### Linear Regression"
   ]
  },
  {
   "cell_type": "code",
   "execution_count": 54,
   "metadata": {},
   "outputs": [
    {
     "data": {
      "text/html": [
       "<style>#sk-container-id-3 {color: black;background-color: white;}#sk-container-id-3 pre{padding: 0;}#sk-container-id-3 div.sk-toggleable {background-color: white;}#sk-container-id-3 label.sk-toggleable__label {cursor: pointer;display: block;width: 100%;margin-bottom: 0;padding: 0.3em;box-sizing: border-box;text-align: center;}#sk-container-id-3 label.sk-toggleable__label-arrow:before {content: \"▸\";float: left;margin-right: 0.25em;color: #696969;}#sk-container-id-3 label.sk-toggleable__label-arrow:hover:before {color: black;}#sk-container-id-3 div.sk-estimator:hover label.sk-toggleable__label-arrow:before {color: black;}#sk-container-id-3 div.sk-toggleable__content {max-height: 0;max-width: 0;overflow: hidden;text-align: left;background-color: #f0f8ff;}#sk-container-id-3 div.sk-toggleable__content pre {margin: 0.2em;color: black;border-radius: 0.25em;background-color: #f0f8ff;}#sk-container-id-3 input.sk-toggleable__control:checked~div.sk-toggleable__content {max-height: 200px;max-width: 100%;overflow: auto;}#sk-container-id-3 input.sk-toggleable__control:checked~label.sk-toggleable__label-arrow:before {content: \"▾\";}#sk-container-id-3 div.sk-estimator input.sk-toggleable__control:checked~label.sk-toggleable__label {background-color: #d4ebff;}#sk-container-id-3 div.sk-label input.sk-toggleable__control:checked~label.sk-toggleable__label {background-color: #d4ebff;}#sk-container-id-3 input.sk-hidden--visually {border: 0;clip: rect(1px 1px 1px 1px);clip: rect(1px, 1px, 1px, 1px);height: 1px;margin: -1px;overflow: hidden;padding: 0;position: absolute;width: 1px;}#sk-container-id-3 div.sk-estimator {font-family: monospace;background-color: #f0f8ff;border: 1px dotted black;border-radius: 0.25em;box-sizing: border-box;margin-bottom: 0.5em;}#sk-container-id-3 div.sk-estimator:hover {background-color: #d4ebff;}#sk-container-id-3 div.sk-parallel-item::after {content: \"\";width: 100%;border-bottom: 1px solid gray;flex-grow: 1;}#sk-container-id-3 div.sk-label:hover label.sk-toggleable__label {background-color: #d4ebff;}#sk-container-id-3 div.sk-serial::before {content: \"\";position: absolute;border-left: 1px solid gray;box-sizing: border-box;top: 0;bottom: 0;left: 50%;z-index: 0;}#sk-container-id-3 div.sk-serial {display: flex;flex-direction: column;align-items: center;background-color: white;padding-right: 0.2em;padding-left: 0.2em;position: relative;}#sk-container-id-3 div.sk-item {position: relative;z-index: 1;}#sk-container-id-3 div.sk-parallel {display: flex;align-items: stretch;justify-content: center;background-color: white;position: relative;}#sk-container-id-3 div.sk-item::before, #sk-container-id-3 div.sk-parallel-item::before {content: \"\";position: absolute;border-left: 1px solid gray;box-sizing: border-box;top: 0;bottom: 0;left: 50%;z-index: -1;}#sk-container-id-3 div.sk-parallel-item {display: flex;flex-direction: column;z-index: 1;position: relative;background-color: white;}#sk-container-id-3 div.sk-parallel-item:first-child::after {align-self: flex-end;width: 50%;}#sk-container-id-3 div.sk-parallel-item:last-child::after {align-self: flex-start;width: 50%;}#sk-container-id-3 div.sk-parallel-item:only-child::after {width: 0;}#sk-container-id-3 div.sk-dashed-wrapped {border: 1px dashed gray;margin: 0 0.4em 0.5em 0.4em;box-sizing: border-box;padding-bottom: 0.4em;background-color: white;}#sk-container-id-3 div.sk-label label {font-family: monospace;font-weight: bold;display: inline-block;line-height: 1.2em;}#sk-container-id-3 div.sk-label-container {text-align: center;}#sk-container-id-3 div.sk-container {/* jupyter's `normalize.less` sets `[hidden] { display: none; }` but bootstrap.min.css set `[hidden] { display: none !important; }` so we also need the `!important` here to be able to override the default hidden behavior on the sphinx rendered scikit-learn.org. See: https://github.com/scikit-learn/scikit-learn/issues/21755 */display: inline-block !important;position: relative;}#sk-container-id-3 div.sk-text-repr-fallback {display: none;}</style><div id=\"sk-container-id-3\" class=\"sk-top-container\"><div class=\"sk-text-repr-fallback\"><pre>GridSearchCV(cv=5,\n",
       "             estimator=Pipeline(steps=[(&#x27;scaler&#x27;, StandardScaler()),\n",
       "                                       (&#x27;reg&#x27;, LinearRegression())]),\n",
       "             n_jobs=-1,\n",
       "             param_grid={&#x27;reg__fit_intercept&#x27;: [True, False],\n",
       "                         &#x27;scaler&#x27;: [StandardScaler(), MinMaxScaler(),\n",
       "                                    MaxAbsScaler()]},\n",
       "             refit=&#x27;r2&#x27;,\n",
       "             scoring=[&#x27;r2&#x27;, &#x27;neg_mean_absolute_error&#x27;,\n",
       "                      &#x27;neg_root_mean_squared_error&#x27;])</pre><b>In a Jupyter environment, please rerun this cell to show the HTML representation or trust the notebook. <br />On GitHub, the HTML representation is unable to render, please try loading this page with nbviewer.org.</b></div><div class=\"sk-container\" hidden><div class=\"sk-item sk-dashed-wrapped\"><div class=\"sk-label-container\"><div class=\"sk-label sk-toggleable\"><input class=\"sk-toggleable__control sk-hidden--visually\" id=\"sk-estimator-id-9\" type=\"checkbox\" ><label for=\"sk-estimator-id-9\" class=\"sk-toggleable__label sk-toggleable__label-arrow\">GridSearchCV</label><div class=\"sk-toggleable__content\"><pre>GridSearchCV(cv=5,\n",
       "             estimator=Pipeline(steps=[(&#x27;scaler&#x27;, StandardScaler()),\n",
       "                                       (&#x27;reg&#x27;, LinearRegression())]),\n",
       "             n_jobs=-1,\n",
       "             param_grid={&#x27;reg__fit_intercept&#x27;: [True, False],\n",
       "                         &#x27;scaler&#x27;: [StandardScaler(), MinMaxScaler(),\n",
       "                                    MaxAbsScaler()]},\n",
       "             refit=&#x27;r2&#x27;,\n",
       "             scoring=[&#x27;r2&#x27;, &#x27;neg_mean_absolute_error&#x27;,\n",
       "                      &#x27;neg_root_mean_squared_error&#x27;])</pre></div></div></div><div class=\"sk-parallel\"><div class=\"sk-parallel-item\"><div class=\"sk-item\"><div class=\"sk-label-container\"><div class=\"sk-label sk-toggleable\"><input class=\"sk-toggleable__control sk-hidden--visually\" id=\"sk-estimator-id-10\" type=\"checkbox\" ><label for=\"sk-estimator-id-10\" class=\"sk-toggleable__label sk-toggleable__label-arrow\">estimator: Pipeline</label><div class=\"sk-toggleable__content\"><pre>Pipeline(steps=[(&#x27;scaler&#x27;, StandardScaler()), (&#x27;reg&#x27;, LinearRegression())])</pre></div></div></div><div class=\"sk-serial\"><div class=\"sk-item\"><div class=\"sk-serial\"><div class=\"sk-item\"><div class=\"sk-estimator sk-toggleable\"><input class=\"sk-toggleable__control sk-hidden--visually\" id=\"sk-estimator-id-11\" type=\"checkbox\" ><label for=\"sk-estimator-id-11\" class=\"sk-toggleable__label sk-toggleable__label-arrow\">StandardScaler</label><div class=\"sk-toggleable__content\"><pre>StandardScaler()</pre></div></div></div><div class=\"sk-item\"><div class=\"sk-estimator sk-toggleable\"><input class=\"sk-toggleable__control sk-hidden--visually\" id=\"sk-estimator-id-12\" type=\"checkbox\" ><label for=\"sk-estimator-id-12\" class=\"sk-toggleable__label sk-toggleable__label-arrow\">LinearRegression</label><div class=\"sk-toggleable__content\"><pre>LinearRegression()</pre></div></div></div></div></div></div></div></div></div></div></div></div>"
      ],
      "text/plain": [
       "GridSearchCV(cv=5,\n",
       "             estimator=Pipeline(steps=[('scaler', StandardScaler()),\n",
       "                                       ('reg', LinearRegression())]),\n",
       "             n_jobs=-1,\n",
       "             param_grid={'reg__fit_intercept': [True, False],\n",
       "                         'scaler': [StandardScaler(), MinMaxScaler(),\n",
       "                                    MaxAbsScaler()]},\n",
       "             refit='r2',\n",
       "             scoring=['r2', 'neg_mean_absolute_error',\n",
       "                      'neg_root_mean_squared_error'])"
      ]
     },
     "execution_count": 54,
     "metadata": {},
     "output_type": "execute_result"
    }
   ],
   "source": [
    "# Créer le pipeline avec le scaler et le modèle\n",
    "pipeline = Pipeline([\n",
    "    ('scaler', StandardScaler()),\n",
    "    ('reg', LinearRegression())\n",
    "])\n",
    "\n",
    "parameters = {'reg__fit_intercept': [True, False],\n",
    "            \"scaler\": [scaler for _, scaler in scalers]}\n",
    "\n",
    "grid_reglin_nrg = GridSearchCV(pipeline,\n",
    "                            param_grid=parameters,\n",
    "                            cv=5,\n",
    "                            n_jobs=-1, \n",
    "                            scoring=scoring,\n",
    "                            refit=\"r2\")\n",
    "grid_reglin_nrg.fit(X_nrg_train, y_nrg_train)"
   ]
  },
  {
   "cell_type": "code",
   "execution_count": null,
   "metadata": {},
   "outputs": [],
   "source": [
    "metrics_df_nrg, y_pred_reg = evaluate_prediction(label_1, X_nrg_test, y_nrg_test, metrics_df_nrg, grid_reglin_nrg,X_nrg_train, y_nrg_train)"
   ]
  },
  {
   "attachments": {},
   "cell_type": "markdown",
   "metadata": {},
   "source": [
    "### Lasso Regression"
   ]
  },
  {
   "cell_type": "code",
   "execution_count": null,
   "metadata": {},
   "outputs": [],
   "source": [
    "# Créer le pipeline avec le scaler et le modèle\n",
    "pipeline = Pipeline([\n",
    "    ('scaler', StandardScaler()),\n",
    "    ('lasso', Lasso(random_state=42))\n",
    "])\n",
    "\n",
    "# Checking for alpha from .0001 to 1 and finding the best value for alpha\n",
    "alpha_space = np.logspace(-4, 2, 15)\n",
    "\n",
    "# Set the parameters  \n",
    "parameters = {\"lasso__alpha\" : alpha_space,\n",
    "            \"scaler\": [scaler for _, scaler in scalers]}\n",
    "\n",
    "grid_lasso_nrg = GridSearchCV(pipeline, \n",
    "                            param_grid=parameters,\n",
    "                            cv=5,\n",
    "                            n_jobs=-1, \n",
    "                            scoring=scoring,\n",
    "                            refit=\"r2\")\n",
    "grid_lasso_nrg.fit(X_nrg_train, y_nrg_train)"
   ]
  },
  {
   "cell_type": "code",
   "execution_count": null,
   "metadata": {},
   "outputs": [],
   "source": [
    "metrics_df_nrg, y_pred_lasso = evaluate_prediction(label_1,X_nrg_test, y_nrg_test, metrics_df_nrg, grid_lasso_nrg, X_nrg_train, y_nrg_train)"
   ]
  },
  {
   "cell_type": "code",
   "execution_count": null,
   "metadata": {},
   "outputs": [],
   "source": [
    "show_fetures_coef(grid_lasso_nrg, columns_enrg)"
   ]
  },
  {
   "attachments": {},
   "cell_type": "markdown",
   "metadata": {},
   "source": [
    "### Ridge regression"
   ]
  },
  {
   "cell_type": "code",
   "execution_count": null,
   "metadata": {},
   "outputs": [],
   "source": [
    "# Créer le pipeline avec le scaler et le modèle\n",
    "pipeline = Pipeline([\n",
    "    ('scaler', StandardScaler()),\n",
    "    ('ridge', Ridge(random_state=42))\n",
    "])\n",
    "\n",
    "# Checking for alpha from .0001 to 1 and finding the best value for alpha\n",
    "alpha_space = np.logspace(-5, 3, 15)\n",
    "\n",
    "# Set the parameters\n",
    "parameters = {\"ridge__alpha\" : alpha_space,\n",
    "            \"scaler\": [scaler for _, scaler in scalers]}\n",
    "\n",
    "grid_ridge_nrg = GridSearchCV(pipeline, \n",
    "                            param_grid=parameters,\n",
    "                            cv=5,\n",
    "                            n_jobs=-1, \n",
    "                            scoring=scoring,\n",
    "                            refit=\"r2\")\n",
    "grid_ridge_nrg.fit(X_nrg_train, y_nrg_train)"
   ]
  },
  {
   "cell_type": "code",
   "execution_count": null,
   "metadata": {},
   "outputs": [],
   "source": [
    "metrics_df_nrg, y_pred_ridge = evaluate_prediction(label_1,X_nrg_test, y_nrg_test, metrics_df_nrg, grid_ridge_nrg, X_nrg_train, y_nrg_train)"
   ]
  },
  {
   "cell_type": "code",
   "execution_count": null,
   "metadata": {},
   "outputs": [],
   "source": [
    "show_fetures_coef(grid_ridge_nrg, columns_enrg)"
   ]
  },
  {
   "attachments": {},
   "cell_type": "markdown",
   "metadata": {},
   "source": [
    "### Elastic Net"
   ]
  },
  {
   "cell_type": "code",
   "execution_count": null,
   "metadata": {},
   "outputs": [],
   "source": [
    "# Créer le pipeline avec le scaler et le modèle\n",
    "pipeline = Pipeline([\n",
    "    ('scaler', StandardScaler()),\n",
    "    ('elnet', ElasticNet(max_iter=20000,random_state=42))\n",
    "])\n",
    "\n",
    "# Checking for alpha and l1-ratio from .0001 to 1 and finding the best value for alpha\n",
    "alpha_space = np.logspace(-5, 3, 15)   \n",
    "l1_space = np.logspace(-3, 0, 15)\n",
    "\n",
    "# Set the parameters\n",
    "parameters = {\"elnet__alpha\" : alpha_space,\n",
    "            \"elnet__l1_ratio\" : l1_space,\n",
    "            \"scaler\" : [scaler for _, scaler in scalers]}\n",
    "\n",
    "grid_elnet_nrg = GridSearchCV(pipeline, \n",
    "                            param_grid=parameters,\n",
    "                            cv=5,\n",
    "                            n_jobs=-1, \n",
    "                            scoring=scoring,\n",
    "                            refit=\"r2\")\n",
    "grid_elnet_nrg.fit(X_nrg_train, y_nrg_train)\n",
    "\n",
    "metrics_df_nrg, y_pred_elnet = evaluate_prediction(label_1, X_nrg_test, y_nrg_test, metrics_df_nrg, grid_elnet_nrg, X_nrg_train, y_nrg_train)"
   ]
  },
  {
   "cell_type": "code",
   "execution_count": null,
   "metadata": {},
   "outputs": [],
   "source": [
    "hist_errors(y_nrg_test, y_pred_elnet)"
   ]
  },
  {
   "cell_type": "code",
   "execution_count": null,
   "metadata": {},
   "outputs": [],
   "source": [
    "error_discrete_feature(df_nrg_selection, 'PropertyGFATotal')"
   ]
  },
  {
   "cell_type": "code",
   "execution_count": null,
   "metadata": {},
   "outputs": [],
   "source": [
    "cat_features_next = ['BuildingType',\n",
    " 'PrimaryPropertyType',\n",
    " 'Neighborhood',\n",
    " 'LargestPropertyUseType']"
   ]
  },
  {
   "cell_type": "code",
   "execution_count": null,
   "metadata": {},
   "outputs": [],
   "source": [
    "# Créer une figure avec des subplots\n",
    "fig, axs = plt.subplots(nrows=len(cat_features_next), ncols=1, figsize=(8, 4 * len(cat_features_next)), gridspec_kw={'hspace': 0.6})\n",
    "axs[0].set_ylabel('Moyenne des erreurs')\n",
    "\n",
    "# Boucle sur les features\n",
    "for i, feature in enumerate(cat_features_next):\n",
    "    # Récupérer l'axe courant\n",
    "    ax = axs[i]\n",
    "\n",
    "    # Calculer les erreurs moyennes pour chaque catégorie\n",
    "    df_nrg_selection[\"error_pred\"] = abs((np.array(y_nrg_test).reshape(-1,) - y_pred_elnet))\n",
    "    df_grouped = df_nrg_selection.groupby(feature).mean()['error_pred']\n",
    "    counts = df_nrg_selection[feature].value_counts()\n",
    "\n",
    "    # Afficher les barres de la moyenne des erreurs\n",
    "    ax.bar(df_grouped.index, df_grouped.values)\n",
    "\n",
    "    # Ajouter le nombre d'occurrences sur les barres de la moyenne des erreurs\n",
    "    for i, v in enumerate(df_grouped.values):\n",
    "        ax.text(i, v, str(counts[df_grouped.index[i]]), ha='center', va='bottom')\n",
    "\n",
    "    # Ajouter un titre pour chaque subplot\n",
    "    ax.set_title(feature)\n",
    "\n",
    "    # Ajouter un espace supplémentaire de 10% au-dessus et en dessous des barres du graphique\n",
    "    ax.margins(y=0.1)\n",
    "    \n",
    "    # Ajouter des étiquettes d'axe plus petites et penchées\n",
    "    ax.set_xticklabels(df_grouped.index, rotation=45, fontsize=7)\n",
    "\n",
    "# Ajouter un titre pour le graphique global\n",
    "fig.suptitle('Erreurs en fonction des variables catégorielles', y=0.95, fontsize=16)\n",
    "\n",
    "# Afficher le graphique\n",
    "plt.show()\n"
   ]
  },
  {
   "attachments": {},
   "cell_type": "markdown",
   "metadata": {},
   "source": [
    "### Decision tree Regressor"
   ]
  },
  {
   "cell_type": "code",
   "execution_count": null,
   "metadata": {},
   "outputs": [],
   "source": [
    "# Créer le pipeline avec le scaler et le modèle\n",
    "pipeline = Pipeline([\n",
    "    ('scaler', StandardScaler()),\n",
    "    ('dectree', DecisionTreeRegressor(random_state=42))\n",
    "])\n",
    "parameters = {'dectree__min_samples_leaf': [1, 2, 3],\n",
    "            'dectree__max_depth': range(5,10),\n",
    "            \"scaler\" : [scaler for _, scaler in scalers]}\n",
    "\n",
    "grid_dectree_nrg = GridSearchCV(pipeline, \n",
    "                            param_grid=parameters,\n",
    "                            cv=5,\n",
    "                            n_jobs=-1, \n",
    "                            scoring=scoring,\n",
    "                            refit=\"r2\")\n",
    "grid_dectree_nrg.fit(X_nrg_train, y_nrg_train)\n",
    "\n",
    "metrics_df_nrg, y_pred_dectree = evaluate_prediction(label_1,X_nrg_test, y_nrg_test, metrics_df_nrg, grid_dectree_nrg, X_nrg_train, y_nrg_train)"
   ]
  },
  {
   "cell_type": "code",
   "execution_count": null,
   "metadata": {},
   "outputs": [],
   "source": [
    "hist_errors(y_nrg_test, y_pred_dectree)"
   ]
  },
  {
   "attachments": {},
   "cell_type": "markdown",
   "metadata": {},
   "source": [
    "### RandomForestRegressor"
   ]
  },
  {
   "cell_type": "code",
   "execution_count": null,
   "metadata": {},
   "outputs": [],
   "source": [
    "# Créer le pipeline avec le scaler et le modèle\n",
    "pipeline = Pipeline([\n",
    "    ('scaler', StandardScaler()),\n",
    "    ('randomforest', RandomForestRegressor(random_state=42))\n",
    "])\n",
    "\n",
    "# Set the parameters\n",
    "parameters = {'randomforest__min_samples_leaf': [1, 2, 3],\n",
    "            'randomforest__criterion': [\"squared_error\", \"absolute_error\", \"friedman_mse\", \"poisson\"],\n",
    "            'randomforest__max_features': [0.3,0.5,0.75,1,\"sqrt\",\"log2\"],\n",
    "            \"scaler\" : [scaler for _, scaler in scalers]}\n",
    "\n",
    "grid_randomforest_nrg = GridSearchCV(pipeline, \n",
    "                            param_grid=parameters,\n",
    "                            cv=5,\n",
    "                            n_jobs=-1, \n",
    "                            scoring=scoring,\n",
    "                            refit=\"r2\")\n",
    "grid_randomforest_nrg.fit(X_nrg_train, y_nrg_train.values.ravel())\n",
    "\n",
    "metrics_df_nrg, y_pred_randomforest = evaluate_prediction(label_1, X_nrg_test, y_nrg_test, metrics_df_nrg, grid_randomforest_nrg, X_nrg_train, y_nrg_train)"
   ]
  },
  {
   "cell_type": "code",
   "execution_count": null,
   "metadata": {},
   "outputs": [],
   "source": [
    "hist_errors(y_nrg_test, y_pred_randomforest)"
   ]
  },
  {
   "attachments": {},
   "cell_type": "markdown",
   "metadata": {},
   "source": [
    "### XGboost"
   ]
  },
  {
   "cell_type": "code",
   "execution_count": null,
   "metadata": {},
   "outputs": [],
   "source": [
    "# Créer le pipeline avec le scaler et le modèle\n",
    "pipeline = Pipeline([\n",
    "    ('scaler', StandardScaler()),\n",
    "    ('xgboost', xgboost.XGBRegressor(random_state=42))\n",
    "])\n",
    "\n",
    "# Définir les paramètres pour le GridSearchCV\n",
    "parameters = {\n",
    "    'scaler': [scaler for _, scaler in scalers]\n",
    "}\n",
    "\n",
    "grid_xgboost_nrg = GridSearchCV(pipeline, \n",
    "                            param_grid=parameters,\n",
    "                            cv=5,\n",
    "                            n_jobs=-1, \n",
    "                            scoring=scoring,\n",
    "                            refit=\"r2\")\n",
    "grid_xgboost_nrg.fit(X_nrg_train, y_nrg_train)\n",
    "\n",
    "metrics_df_nrg, y_pred_xgboost = evaluate_prediction(label_1, X_nrg_test, y_nrg_test, metrics_df_nrg, grid_xgboost_nrg, X_nrg_train, y_nrg_train)"
   ]
  },
  {
   "cell_type": "code",
   "execution_count": null,
   "metadata": {},
   "outputs": [],
   "source": [
    "# Créer le pipeline avec le scaler et le modèle\n",
    "pipeline = Pipeline([\n",
    "    ('scaler', StandardScaler()),\n",
    "    ('xgboost', xgboost.XGBRegressor(random_state=42))\n",
    "])\n",
    "\n",
    "# Set the parameters\n",
    "eta = np.logspace(-5, 0.3, 5)\n",
    "L1_reg = np.logspace(-10, 10, 5)\n",
    "L2_reg = np.logspace(-10, 10, 5)\n",
    "parameters = {'xgboost__max_depth': [3,7,11],\n",
    "            'xgboost__learning_rate': eta,\n",
    "            'xgboost__reg_alpha': L1_reg,\n",
    "            'xgboost__reg_lambda' : L2_reg,\n",
    "            'xgboost__colsample_bytree' : [0.25,0.5,0.75,1],\n",
    "            'scaler': [scaler for _, scaler in scalers]\n",
    "            }\n",
    "\n",
    "grid_xgboost_nrg = GridSearchCV(pipeline, \n",
    "                            param_grid=parameters,\n",
    "                            cv=5,\n",
    "                            n_jobs=-1, \n",
    "                            scoring=scoring,\n",
    "                            refit=\"r2\")\n",
    "grid_xgboost_nrg.fit(X_nrg_train, y_nrg_train)\n",
    "\n",
    "metrics_df_nrg, y_pred_xgboost = evaluate_prediction(label_1, X_nrg_test, y_nrg_test, metrics_df_nrg, grid_xgboost_nrg,X_nrg_train, y_nrg_train)"
   ]
  },
  {
   "cell_type": "code",
   "execution_count": null,
   "metadata": {},
   "outputs": [],
   "source": [
    "hist_errors(y_nrg_test, y_pred_xgboost)"
   ]
  },
  {
   "attachments": {},
   "cell_type": "markdown",
   "metadata": {},
   "source": [
    "### LightBoost"
   ]
  },
  {
   "cell_type": "code",
   "execution_count": null,
   "metadata": {},
   "outputs": [],
   "source": [
    "# Créer le pipeline avec le scaler et le modèle\n",
    "pipeline = Pipeline([\n",
    "    ('scaler', StandardScaler()),\n",
    "    ('lightboost', LGBMRegressor(random_state=42))\n",
    "])\n",
    "\n",
    "# Set the parameters\n",
    "parameters = {'lightboost__n_estimators': range(1000,1500,100),\n",
    "            'lightboost__learning_rate': [0.01,0.001,0.03,0.1,0.3],\n",
    "            'scaler': [scaler for _, scaler in scalers]}\n",
    "\n",
    "grid_lightboost_nrg = GridSearchCV(pipeline, \n",
    "                            param_grid=parameters,\n",
    "                            cv=5,\n",
    "                            n_jobs=-1, \n",
    "                            scoring=scoring,\n",
    "                            refit=\"r2\")\n",
    "grid_lightboost_nrg.fit(X_nrg_train, y_nrg_train)\n",
    "\n",
    "metrics_df_nrg, y_pred_lgboost = evaluate_prediction(label_1,X_nrg_test, y_nrg_test, metrics_df_nrg, grid_lightboost_nrg, X_nrg_train, y_nrg_train)"
   ]
  },
  {
   "attachments": {},
   "cell_type": "markdown",
   "metadata": {},
   "source": [
    "## Label 2 - GHE"
   ]
  },
  {
   "attachments": {},
   "cell_type": "markdown",
   "metadata": {},
   "source": [
    "### Dummy Regression"
   ]
  },
  {
   "cell_type": "code",
   "execution_count": null,
   "metadata": {},
   "outputs": [],
   "source": [
    "# Créer le pipeline avec le scaler et le modèle\n",
    "pipeline = Pipeline([\n",
    "    ('scaler', StandardScaler()),\n",
    "    ('dummy_regr', DummyRegressor())\n",
    "])\n",
    "parameters = {\"dummy_regr__strategy\" : (\"mean\",\"median\"),\n",
    "            \"scaler\": [scaler for _, scaler in scalers]}\n",
    "\n",
    "grid_dummy_ghe = GridSearchCV(pipeline, \n",
    "                            param_grid=parameters,\n",
    "                            cv=5,\n",
    "                            n_jobs=-1, \n",
    "                            scoring=scoring,\n",
    "                            refit=\"r2\")\n",
    "grid_dummy_ghe.fit(X_ghe_train, y_ghe_train)"
   ]
  },
  {
   "cell_type": "code",
   "execution_count": null,
   "metadata": {},
   "outputs": [],
   "source": [
    "metrics_df_ghe, y_pred_dummy_ghe = evaluate_prediction(label_2,X_ghe_test, y_ghe_test, metrics_df_ghe, grid_dummy_ghe, X_ghe_train, y_ghe_train)"
   ]
  },
  {
   "attachments": {},
   "cell_type": "markdown",
   "metadata": {},
   "source": [
    "### Linear Regression"
   ]
  },
  {
   "cell_type": "code",
   "execution_count": null,
   "metadata": {},
   "outputs": [],
   "source": [
    "# Créer le pipeline avec le scaler et le modèle\n",
    "pipeline = Pipeline([\n",
    "    ('scaler', StandardScaler()),\n",
    "    ('reg', LinearRegression())\n",
    "])\n",
    "\n",
    "parameters = {'reg__fit_intercept': [True, False],\n",
    "            \"scaler\": [scaler for _, scaler in scalers]}\n",
    "\n",
    "grid_reglin_ghe = GridSearchCV(pipeline,\n",
    "                            param_grid=parameters,\n",
    "                            cv=5,\n",
    "                            n_jobs=-1, \n",
    "                            scoring=scoring,\n",
    "                            refit=\"r2\")\n",
    "grid_reglin_ghe.fit(X_ghe_train, y_ghe_train)\n",
    "\n",
    "metrics_df_ghe, y_pred_reg_ghe = evaluate_prediction(label_2,X_ghe_test, y_ghe_test, metrics_df_ghe, grid_reglin_ghe, X_ghe_train, y_ghe_train)"
   ]
  },
  {
   "attachments": {},
   "cell_type": "markdown",
   "metadata": {},
   "source": [
    "### Lasso Regression"
   ]
  },
  {
   "cell_type": "code",
   "execution_count": null,
   "metadata": {},
   "outputs": [],
   "source": [
    "# Créer le pipeline avec le scaler et le modèle\n",
    "pipeline = Pipeline([\n",
    "    ('scaler', StandardScaler()),\n",
    "    ('lasso', Lasso(random_state=42))\n",
    "])\n",
    "\n",
    "# Checking for alpha from .0001 to 1 and finding the best value for alpha\n",
    "alpha_space = np.logspace(-4, 2, 15)\n",
    "\n",
    "# Set the parameters  \n",
    "parameters = {\"lasso__alpha\" : alpha_space,\n",
    "            \"scaler\": [scaler for _, scaler in scalers]}\n",
    "\n",
    "grid_lasso_ghe = GridSearchCV(pipeline, \n",
    "                            param_grid=parameters,\n",
    "                            cv=5,\n",
    "                            n_jobs=-1, \n",
    "                            scoring=scoring,\n",
    "                            refit=\"r2\")\n",
    "grid_lasso_ghe.fit(X_ghe_train, y_ghe_train)\n",
    "\n",
    "metrics_df_ghe, y_pred_lasso_ghe = evaluate_prediction(label_2, X_ghe_test, y_ghe_test, metrics_df_ghe, grid_lasso_ghe, X_ghe_train, y_ghe_train)"
   ]
  },
  {
   "cell_type": "code",
   "execution_count": null,
   "metadata": {},
   "outputs": [],
   "source": [
    "show_fetures_coef(grid_lasso_ghe, columns_ghe)"
   ]
  },
  {
   "attachments": {},
   "cell_type": "markdown",
   "metadata": {},
   "source": [
    "### vérification du scaling des données"
   ]
  },
  {
   "cell_type": "code",
   "execution_count": null,
   "metadata": {},
   "outputs": [],
   "source": [
    "fig = plt.figure(figsize=(16, 12))\n",
    "for feat_idx in range(X_enrg_test.shape[1]):\n",
    "    ax = fig.add_subplot(7,5, (feat_idx+1))\n",
    "    h = ax.hist(X_nrg_test[:, feat_idx], bins=50, color='steelblue', density=True, edgecolor='none')\n",
    "    ax.set_title(columns_enrg[feat_idx], fontsize=10)"
   ]
  },
  {
   "attachments": {},
   "cell_type": "markdown",
   "metadata": {},
   "source": [
    "### Ridge "
   ]
  },
  {
   "cell_type": "code",
   "execution_count": null,
   "metadata": {},
   "outputs": [],
   "source": [
    "# Créer le pipeline avec le scaler et le modèle\n",
    "pipeline = Pipeline([\n",
    "    ('scaler', StandardScaler()),\n",
    "    ('ridge', Ridge(random_state=42))\n",
    "])\n",
    "\n",
    "# Checking for alpha from .0001 to 1 and finding the best value for alpha\n",
    "alpha_space = np.logspace(-5, 3, 15)\n",
    "\n",
    "# Set the parameters\n",
    "parameters = {\"ridge__alpha\" : alpha_space,\n",
    "            \"scaler\": [scaler for _, scaler in scalers]}\n",
    "\n",
    "grid_ridge_ghe = GridSearchCV(pipeline, \n",
    "                            param_grid=parameters,\n",
    "                            cv=5,\n",
    "                            n_jobs=-1, \n",
    "                            scoring=scoring,\n",
    "                            refit=\"r2\")\n",
    "grid_ridge_ghe.fit(X_ghe_train, y_ghe_train)\n",
    "\n",
    "metrics_df_ghe, y_pred_ridge_ghe = evaluate_prediction(label_2,X_ghe_test, y_ghe_test, metrics_df_ghe, grid_ridge_ghe, X_ghe_train, y_ghe_train)"
   ]
  },
  {
   "cell_type": "code",
   "execution_count": null,
   "metadata": {},
   "outputs": [],
   "source": [
    "show_fetures_coef(grid_ridge_nrg, columns_enrg)"
   ]
  },
  {
   "attachments": {},
   "cell_type": "markdown",
   "metadata": {},
   "source": [
    "### Elastic Net"
   ]
  },
  {
   "cell_type": "code",
   "execution_count": null,
   "metadata": {},
   "outputs": [],
   "source": [
    "# Créer le pipeline avec le scaler et le modèle\n",
    "pipeline = Pipeline([\n",
    "    ('scaler', StandardScaler()),\n",
    "    ('elnet', ElasticNet(max_iter=20000,random_state=42))\n",
    "])\n",
    "\n",
    "# Checking for alpha and l1-ratio from .0001 to 1 and finding the best value for alpha\n",
    "alpha_space = np.logspace(-5, 3, 15)   \n",
    "l1_space = np.logspace(-3, 0, 15)\n",
    "\n",
    "# Set the parameters\n",
    "parameters = {\"elnet__alpha\" : alpha_space,\n",
    "            \"elnet__l1_ratio\" : l1_space,\n",
    "            \"scaler\" : [scaler for _, scaler in scalers]}\n",
    "\n",
    "grid_elnet_ghe = GridSearchCV(pipeline, \n",
    "                            param_grid=parameters,\n",
    "                            cv=5,\n",
    "                            n_jobs=-1, \n",
    "                            scoring=scoring,\n",
    "                            refit=\"r2\")\n",
    "grid_elnet_ghe.fit(X_ghe_train, y_ghe_train)\n",
    "\n",
    "metrics_df_ghe, y_pred_elnet_ghe = evaluate_prediction(label_2,X_ghe_test, y_ghe_test, metrics_df_ghe, grid_elnet_ghe, X_ghe_train, y_ghe_train)"
   ]
  },
  {
   "attachments": {},
   "cell_type": "markdown",
   "metadata": {},
   "source": [
    "### Decision tree Regressor"
   ]
  },
  {
   "cell_type": "code",
   "execution_count": null,
   "metadata": {},
   "outputs": [],
   "source": [
    "# Créer le pipeline avec le scaler et le modèle\n",
    "pipeline = Pipeline([\n",
    "    ('scaler', StandardScaler()),\n",
    "    ('dectree', DecisionTreeRegressor(random_state=42))\n",
    "])\n",
    "parameters = {'dectree__min_samples_leaf': [1, 2, 3],\n",
    "            'dectree__max_depth': range(5,10),\n",
    "            \"scaler\" : [scaler for _, scaler in scalers]}\n",
    "\n",
    "grid_dectree_ghe = GridSearchCV(pipeline, \n",
    "                            param_grid=parameters,\n",
    "                            cv=5,\n",
    "                            n_jobs=-1, \n",
    "                            scoring=scoring,\n",
    "                            refit=\"r2\")\n",
    "grid_dectree_ghe.fit(X_ghe_train, y_ghe_train)\n",
    "\n",
    "metrics_df_ghe, y_pred_dectree_ghe = evaluate_prediction(label_2,X_ghe_test, y_ghe_test, metrics_df_ghe, grid_dectree_ghe, X_ghe_train, y_ghe_train)"
   ]
  },
  {
   "attachments": {},
   "cell_type": "markdown",
   "metadata": {},
   "source": [
    "### RandomForest"
   ]
  },
  {
   "cell_type": "code",
   "execution_count": null,
   "metadata": {},
   "outputs": [],
   "source": [
    "# Créer le pipeline avec le scaler et le modèle\n",
    "pipeline = Pipeline([\n",
    "    ('scaler', StandardScaler()),\n",
    "    ('randomforest', RandomForestRegressor(random_state=42))\n",
    "])\n",
    "\n",
    "# Set the parameters\n",
    "parameters = {'randomforest__min_samples_leaf': [1, 2, 3],\n",
    "            'randomforest__criterion': [\"squared_error\", \"absolute_error\", \"friedman_mse\", \"poisson\"],\n",
    "            'randomforest__max_features': [0.3,0.5,0.75,1,\"sqrt\",\"log2\"],\n",
    "            \"scaler\" : [scaler for _, scaler in scalers]}\n",
    "\n",
    "grid_randomforest_ghe = GridSearchCV(pipeline, \n",
    "                            param_grid=parameters,\n",
    "                            cv=5,\n",
    "                            n_jobs=-1, \n",
    "                            scoring=scoring,\n",
    "                            refit=\"r2\")\n",
    "grid_randomforest_ghe.fit(X_ghe_train, y_ghe_train.values.ravel())\n",
    "\n",
    "metrics_df_ghe, y_pred_forest_ghe = evaluate_prediction(label_2,X_ghe_test, y_ghe_test, metrics_df_ghe, grid_randomforest_ghe, X_ghe_train, y_ghe_train)"
   ]
  },
  {
   "attachments": {},
   "cell_type": "markdown",
   "metadata": {},
   "source": [
    "### XGBoost"
   ]
  },
  {
   "cell_type": "code",
   "execution_count": null,
   "metadata": {},
   "outputs": [],
   "source": [
    "# Créer le pipeline avec le scaler et le modèle\n",
    "pipeline = Pipeline([\n",
    "    ('scaler', StandardScaler()),\n",
    "    ('xgboost', xgboost.XGBRegressor(random_state=42))\n",
    "])\n",
    "\n",
    "# Set the parameters\n",
    "eta = np.logspace(-5, 0.3, 5)\n",
    "L1_reg = np.logspace(-10, 10, 5)\n",
    "L2_reg = np.logspace(-10, 10, 5)\n",
    "parameters = {'xgboost__max_depth': [3,7,11],\n",
    "            'xgboost__learning_rate': eta,\n",
    "            'xgboost__reg_alpha': L1_reg,\n",
    "            'xgboost__reg_lambda' : L2_reg,\n",
    "            'xgboost__colsample_bytree' : [0.25,0.5,0.75,1],\n",
    "            'scaler': [scaler for _, scaler in scalers]\n",
    "            }\n",
    "\n",
    "grid_xgboost_ghe = GridSearchCV(pipeline, \n",
    "                            param_grid=parameters,\n",
    "                            cv=5,\n",
    "                            n_jobs=-1, \n",
    "                            scoring=scoring,\n",
    "                            refit=\"r2\")\n",
    "grid_xgboost_ghe.fit(X_ghe_train, y_ghe_train)\n",
    "\n",
    "metrics_df_ghe, y_pred_xgboost_ghe = evaluate_prediction(label_2, X_ghe_test, y_ghe_test, metrics_df_ghe, grid_xgboost_ghe, X_ghe_train, y_ghe_train)"
   ]
  },
  {
   "attachments": {},
   "cell_type": "markdown",
   "metadata": {},
   "source": [
    "### LightBoost"
   ]
  },
  {
   "cell_type": "code",
   "execution_count": null,
   "metadata": {},
   "outputs": [],
   "source": [
    "# Créer le pipeline avec le scaler et le modèle\n",
    "pipeline = Pipeline([\n",
    "    ('scaler', StandardScaler()),\n",
    "    ('lightboost', LGBMRegressor(random_state=42))\n",
    "])\n",
    "\n",
    "# Set the parameters\n",
    "parameters = {'lightboost__n_estimators': range(1000,1500,100),\n",
    "            'lightboost__learning_rate': [0.01,0.001,0.03,0.1,0.3],\n",
    "            'scaler': [scaler for _, scaler in scalers]}\n",
    "\n",
    "grid_lightboost_ghe = GridSearchCV(pipeline, \n",
    "                            param_grid=parameters,\n",
    "                            cv=5,\n",
    "                            n_jobs=-1, \n",
    "                            scoring=scoring,\n",
    "                            refit=\"r2\")\n",
    "grid_lightboost_ghe.fit(X_ghe_train, y_ghe_train)\n",
    "\n",
    "metrics_df_ghe, y_pred_lgboost_ghe = evaluate_prediction(label_2,X_ghe_test, y_ghe_test, metrics_df_ghe, grid_lightboost_ghe, X_ghe_train, y_ghe_train)"
   ]
  }
 ],
 "metadata": {
  "kernelspec": {
   "display_name": "lewagon",
   "language": "python",
   "name": "python3"
  },
  "language_info": {
   "codemirror_mode": {
    "name": "ipython",
    "version": 3
   },
   "file_extension": ".py",
   "mimetype": "text/x-python",
   "name": "python",
   "nbconvert_exporter": "python",
   "pygments_lexer": "ipython3",
   "version": "3.8.6"
  },
  "orig_nbformat": 4
 },
 "nbformat": 4,
 "nbformat_minor": 2
}
